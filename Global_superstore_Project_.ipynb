{
  "cells": [
    {
      "cell_type": "markdown",
      "metadata": {
        "id": "fmvP3LZnlGdW"
      },
      "source": [
        "### Today, we are going to work on a simple dataset which we have collected from Kaggle community."
      ]
    },
    {
      "cell_type": "code",
      "execution_count": null,
      "metadata": {
        "id": "p4MFc63UlGdZ"
      },
      "outputs": [],
      "source": [
        "# So, first step is importing neccesary libraries and import dataset from our local drive \n",
        "\n",
        "import pandas as pd \n",
        "import numpy as np \n",
        "import matplotlib.pyplot as plt \n",
        "import seaborn as sns \n",
        "import warnings #(we are doing this to simply ignore the warnings that may occur in dataset)\n",
        "warnings.filterwarnings('ignore')"
      ]
    },
    {
      "cell_type": "code",
      "execution_count": null,
      "metadata": {
        "id": "dGufbHKmlGde"
      },
      "outputs": [],
      "source": [
        "store = pd.read_csv(r'/content/Global_superstore.csv',encoding='Latin1') \n",
        "# Here, we were facing an enoding problem so that's why we used enocoding code. "
      ]
    },
    {
      "cell_type": "code",
      "execution_count": null,
      "metadata": {
        "colab": {
          "base_uri": "https://localhost:8080/",
          "height": 379
        },
        "id": "PH9Z8qyKlGdg",
        "outputId": "12539ab9-d6f9-4dc6-c645-01a52abd746a"
      },
      "outputs": [
        {
          "output_type": "execute_result",
          "data": {
            "text/plain": [
              "   Row ID        Order ID Order Date  Ship Date     Ship Mode Customer ID  \\\n",
              "0   32298  CA-2012-124891  7/31/2012  7/31/2012      Same Day    RH-19495   \n",
              "1   26341   IN-2013-77878   2/5/2013   2/7/2013  Second Class    JR-16210   \n",
              "\n",
              "   Customer Name    Segment           City            State  ...  \\\n",
              "0    Rick Hansen   Consumer  New York City         New York  ...   \n",
              "1  Justin Ritter  Corporate     Wollongong  New South Wales  ...   \n",
              "\n",
              "        Product ID    Category Sub-Category  \\\n",
              "0  TEC-AC-10003033  Technology  Accessories   \n",
              "1  FUR-CH-10003950   Furniture       Chairs   \n",
              "\n",
              "                                        Product Name     Sales Quantity  \\\n",
              "0  Plantronics CS510 - Over-the-Head monaural Wir...  2309.650        7   \n",
              "1          Novimex Executive Leather Armchair, Black  3709.395        9   \n",
              "\n",
              "  Discount    Profit  Shipping Cost  Order Priority  \n",
              "0      0.0  762.1845         933.57        Critical  \n",
              "1      0.1 -288.7650         923.63        Critical  \n",
              "\n",
              "[2 rows x 24 columns]"
            ],
            "text/html": [
              "\n",
              "  <div id=\"df-2735fd0e-3558-4a8e-bd87-3bb81dfbab45\">\n",
              "    <div class=\"colab-df-container\">\n",
              "      <div>\n",
              "<style scoped>\n",
              "    .dataframe tbody tr th:only-of-type {\n",
              "        vertical-align: middle;\n",
              "    }\n",
              "\n",
              "    .dataframe tbody tr th {\n",
              "        vertical-align: top;\n",
              "    }\n",
              "\n",
              "    .dataframe thead th {\n",
              "        text-align: right;\n",
              "    }\n",
              "</style>\n",
              "<table border=\"1\" class=\"dataframe\">\n",
              "  <thead>\n",
              "    <tr style=\"text-align: right;\">\n",
              "      <th></th>\n",
              "      <th>Row ID</th>\n",
              "      <th>Order ID</th>\n",
              "      <th>Order Date</th>\n",
              "      <th>Ship Date</th>\n",
              "      <th>Ship Mode</th>\n",
              "      <th>Customer ID</th>\n",
              "      <th>Customer Name</th>\n",
              "      <th>Segment</th>\n",
              "      <th>City</th>\n",
              "      <th>State</th>\n",
              "      <th>...</th>\n",
              "      <th>Product ID</th>\n",
              "      <th>Category</th>\n",
              "      <th>Sub-Category</th>\n",
              "      <th>Product Name</th>\n",
              "      <th>Sales</th>\n",
              "      <th>Quantity</th>\n",
              "      <th>Discount</th>\n",
              "      <th>Profit</th>\n",
              "      <th>Shipping Cost</th>\n",
              "      <th>Order Priority</th>\n",
              "    </tr>\n",
              "  </thead>\n",
              "  <tbody>\n",
              "    <tr>\n",
              "      <th>0</th>\n",
              "      <td>32298</td>\n",
              "      <td>CA-2012-124891</td>\n",
              "      <td>7/31/2012</td>\n",
              "      <td>7/31/2012</td>\n",
              "      <td>Same Day</td>\n",
              "      <td>RH-19495</td>\n",
              "      <td>Rick Hansen</td>\n",
              "      <td>Consumer</td>\n",
              "      <td>New York City</td>\n",
              "      <td>New York</td>\n",
              "      <td>...</td>\n",
              "      <td>TEC-AC-10003033</td>\n",
              "      <td>Technology</td>\n",
              "      <td>Accessories</td>\n",
              "      <td>Plantronics CS510 - Over-the-Head monaural Wir...</td>\n",
              "      <td>2309.650</td>\n",
              "      <td>7</td>\n",
              "      <td>0.0</td>\n",
              "      <td>762.1845</td>\n",
              "      <td>933.57</td>\n",
              "      <td>Critical</td>\n",
              "    </tr>\n",
              "    <tr>\n",
              "      <th>1</th>\n",
              "      <td>26341</td>\n",
              "      <td>IN-2013-77878</td>\n",
              "      <td>2/5/2013</td>\n",
              "      <td>2/7/2013</td>\n",
              "      <td>Second Class</td>\n",
              "      <td>JR-16210</td>\n",
              "      <td>Justin Ritter</td>\n",
              "      <td>Corporate</td>\n",
              "      <td>Wollongong</td>\n",
              "      <td>New South Wales</td>\n",
              "      <td>...</td>\n",
              "      <td>FUR-CH-10003950</td>\n",
              "      <td>Furniture</td>\n",
              "      <td>Chairs</td>\n",
              "      <td>Novimex Executive Leather Armchair, Black</td>\n",
              "      <td>3709.395</td>\n",
              "      <td>9</td>\n",
              "      <td>0.1</td>\n",
              "      <td>-288.7650</td>\n",
              "      <td>923.63</td>\n",
              "      <td>Critical</td>\n",
              "    </tr>\n",
              "  </tbody>\n",
              "</table>\n",
              "<p>2 rows × 24 columns</p>\n",
              "</div>\n",
              "      <button class=\"colab-df-convert\" onclick=\"convertToInteractive('df-2735fd0e-3558-4a8e-bd87-3bb81dfbab45')\"\n",
              "              title=\"Convert this dataframe to an interactive table.\"\n",
              "              style=\"display:none;\">\n",
              "        \n",
              "  <svg xmlns=\"http://www.w3.org/2000/svg\" height=\"24px\"viewBox=\"0 0 24 24\"\n",
              "       width=\"24px\">\n",
              "    <path d=\"M0 0h24v24H0V0z\" fill=\"none\"/>\n",
              "    <path d=\"M18.56 5.44l.94 2.06.94-2.06 2.06-.94-2.06-.94-.94-2.06-.94 2.06-2.06.94zm-11 1L8.5 8.5l.94-2.06 2.06-.94-2.06-.94L8.5 2.5l-.94 2.06-2.06.94zm10 10l.94 2.06.94-2.06 2.06-.94-2.06-.94-.94-2.06-.94 2.06-2.06.94z\"/><path d=\"M17.41 7.96l-1.37-1.37c-.4-.4-.92-.59-1.43-.59-.52 0-1.04.2-1.43.59L10.3 9.45l-7.72 7.72c-.78.78-.78 2.05 0 2.83L4 21.41c.39.39.9.59 1.41.59.51 0 1.02-.2 1.41-.59l7.78-7.78 2.81-2.81c.8-.78.8-2.07 0-2.86zM5.41 20L4 18.59l7.72-7.72 1.47 1.35L5.41 20z\"/>\n",
              "  </svg>\n",
              "      </button>\n",
              "      \n",
              "  <style>\n",
              "    .colab-df-container {\n",
              "      display:flex;\n",
              "      flex-wrap:wrap;\n",
              "      gap: 12px;\n",
              "    }\n",
              "\n",
              "    .colab-df-convert {\n",
              "      background-color: #E8F0FE;\n",
              "      border: none;\n",
              "      border-radius: 50%;\n",
              "      cursor: pointer;\n",
              "      display: none;\n",
              "      fill: #1967D2;\n",
              "      height: 32px;\n",
              "      padding: 0 0 0 0;\n",
              "      width: 32px;\n",
              "    }\n",
              "\n",
              "    .colab-df-convert:hover {\n",
              "      background-color: #E2EBFA;\n",
              "      box-shadow: 0px 1px 2px rgba(60, 64, 67, 0.3), 0px 1px 3px 1px rgba(60, 64, 67, 0.15);\n",
              "      fill: #174EA6;\n",
              "    }\n",
              "\n",
              "    [theme=dark] .colab-df-convert {\n",
              "      background-color: #3B4455;\n",
              "      fill: #D2E3FC;\n",
              "    }\n",
              "\n",
              "    [theme=dark] .colab-df-convert:hover {\n",
              "      background-color: #434B5C;\n",
              "      box-shadow: 0px 1px 3px 1px rgba(0, 0, 0, 0.15);\n",
              "      filter: drop-shadow(0px 1px 2px rgba(0, 0, 0, 0.3));\n",
              "      fill: #FFFFFF;\n",
              "    }\n",
              "  </style>\n",
              "\n",
              "      <script>\n",
              "        const buttonEl =\n",
              "          document.querySelector('#df-2735fd0e-3558-4a8e-bd87-3bb81dfbab45 button.colab-df-convert');\n",
              "        buttonEl.style.display =\n",
              "          google.colab.kernel.accessAllowed ? 'block' : 'none';\n",
              "\n",
              "        async function convertToInteractive(key) {\n",
              "          const element = document.querySelector('#df-2735fd0e-3558-4a8e-bd87-3bb81dfbab45');\n",
              "          const dataTable =\n",
              "            await google.colab.kernel.invokeFunction('convertToInteractive',\n",
              "                                                     [key], {});\n",
              "          if (!dataTable) return;\n",
              "\n",
              "          const docLinkHtml = 'Like what you see? Visit the ' +\n",
              "            '<a target=\"_blank\" href=https://colab.research.google.com/notebooks/data_table.ipynb>data table notebook</a>'\n",
              "            + ' to learn more about interactive tables.';\n",
              "          element.innerHTML = '';\n",
              "          dataTable['output_type'] = 'display_data';\n",
              "          await google.colab.output.renderOutput(dataTable, element);\n",
              "          const docLink = document.createElement('div');\n",
              "          docLink.innerHTML = docLinkHtml;\n",
              "          element.appendChild(docLink);\n",
              "        }\n",
              "      </script>\n",
              "    </div>\n",
              "  </div>\n",
              "  "
            ]
          },
          "metadata": {},
          "execution_count": 51
        }
      ],
      "source": [
        "store.head(2)"
      ]
    },
    {
      "cell_type": "code",
      "execution_count": null,
      "metadata": {
        "colab": {
          "base_uri": "https://localhost:8080/"
        },
        "id": "x3jc1H1flGdi",
        "outputId": "93a62079-2964-49f0-d1a9-6c264735992e"
      },
      "outputs": [
        {
          "output_type": "execute_result",
          "data": {
            "text/plain": [
              "(51290, 24)"
            ]
          },
          "metadata": {},
          "execution_count": 52
        }
      ],
      "source": [
        "store.shape"
      ]
    },
    {
      "cell_type": "code",
      "execution_count": null,
      "metadata": {
        "colab": {
          "base_uri": "https://localhost:8080/"
        },
        "id": "dD2DZpVDlGdj",
        "outputId": "d10e3bb1-d847-4eba-9ecf-f7e4b15a811b"
      },
      "outputs": [
        {
          "output_type": "execute_result",
          "data": {
            "text/plain": [
              "Index(['Row ID', 'Order ID', 'Order Date', 'Ship Date', 'Ship Mode',\n",
              "       'Customer ID', 'Customer Name', 'Segment', 'City', 'State', 'Country',\n",
              "       'Postal Code', 'Market', 'Region', 'Product ID', 'Category',\n",
              "       'Sub-Category', 'Product Name', 'Sales', 'Quantity', 'Discount',\n",
              "       'Profit', 'Shipping Cost', 'Order Priority'],\n",
              "      dtype='object')"
            ]
          },
          "metadata": {},
          "execution_count": 53
        }
      ],
      "source": [
        "store.columns"
      ]
    },
    {
      "cell_type": "code",
      "execution_count": null,
      "metadata": {
        "colab": {
          "base_uri": "https://localhost:8080/",
          "height": 540
        },
        "id": "K4XDjkZOlGdk",
        "outputId": "3272f45e-125b-4c13-9a2d-2df163d10e0a"
      },
      "outputs": [
        {
          "output_type": "execute_result",
          "data": {
            "text/plain": [
              "             Row ID        Order ID Order Date   Ship Date       Ship Mode  \\\n",
              "count   51290.00000           51290      51290       51290           51290   \n",
              "unique          NaN           25035       1430        1464               4   \n",
              "top             NaN  CA-2014-100111  6/18/2014  11/22/2014  Standard Class   \n",
              "freq            NaN              14        135         130           30775   \n",
              "mean    25645.50000             NaN        NaN         NaN             NaN   \n",
              "std     14806.29199             NaN        NaN         NaN             NaN   \n",
              "min         1.00000             NaN        NaN         NaN             NaN   \n",
              "25%     12823.25000             NaN        NaN         NaN             NaN   \n",
              "50%     25645.50000             NaN        NaN         NaN             NaN   \n",
              "75%     38467.75000             NaN        NaN         NaN             NaN   \n",
              "max     51290.00000             NaN        NaN         NaN             NaN   \n",
              "\n",
              "       Customer ID    Customer Name   Segment           City       State  ...  \\\n",
              "count        51290            51290     51290          51290       51290  ...   \n",
              "unique        1590              795         3           3636        1094  ...   \n",
              "top       PO-18850  Muhammed Yedwab  Consumer  New York City  California  ...   \n",
              "freq            97              108     26518            915        2001  ...   \n",
              "mean           NaN              NaN       NaN            NaN         NaN  ...   \n",
              "std            NaN              NaN       NaN            NaN         NaN  ...   \n",
              "min            NaN              NaN       NaN            NaN         NaN  ...   \n",
              "25%            NaN              NaN       NaN            NaN         NaN  ...   \n",
              "50%            NaN              NaN       NaN            NaN         NaN  ...   \n",
              "75%            NaN              NaN       NaN            NaN         NaN  ...   \n",
              "max            NaN              NaN       NaN            NaN         NaN  ...   \n",
              "\n",
              "             Product ID         Category Sub-Category Product Name  \\\n",
              "count             51290            51290        51290        51290   \n",
              "unique            10292                3           17         3788   \n",
              "top     OFF-AR-10003651  Office Supplies      Binders      Staples   \n",
              "freq                 35            31273         6152          227   \n",
              "mean                NaN              NaN          NaN          NaN   \n",
              "std                 NaN              NaN          NaN          NaN   \n",
              "min                 NaN              NaN          NaN          NaN   \n",
              "25%                 NaN              NaN          NaN          NaN   \n",
              "50%                 NaN              NaN          NaN          NaN   \n",
              "75%                 NaN              NaN          NaN          NaN   \n",
              "max                 NaN              NaN          NaN          NaN   \n",
              "\n",
              "               Sales      Quantity      Discount        Profit  Shipping Cost  \\\n",
              "count   51290.000000  51290.000000  51290.000000  51290.000000   51290.000000   \n",
              "unique           NaN           NaN           NaN           NaN            NaN   \n",
              "top              NaN           NaN           NaN           NaN            NaN   \n",
              "freq             NaN           NaN           NaN           NaN            NaN   \n",
              "mean      246.490581      3.476545      0.142908     28.610982      26.375818   \n",
              "std       487.565361      2.278766      0.212280    174.340972      57.296810   \n",
              "min         0.444000      1.000000      0.000000  -6599.978000       0.002000   \n",
              "25%        30.758625      2.000000      0.000000      0.000000       2.610000   \n",
              "50%        85.053000      3.000000      0.000000      9.240000       7.790000   \n",
              "75%       251.053200      5.000000      0.200000     36.810000      24.450000   \n",
              "max     22638.480000     14.000000      0.850000   8399.976000     933.570000   \n",
              "\n",
              "        Order Priority  \n",
              "count            51290  \n",
              "unique               4  \n",
              "top             Medium  \n",
              "freq             29433  \n",
              "mean               NaN  \n",
              "std                NaN  \n",
              "min                NaN  \n",
              "25%                NaN  \n",
              "50%                NaN  \n",
              "75%                NaN  \n",
              "max                NaN  \n",
              "\n",
              "[11 rows x 24 columns]"
            ],
            "text/html": [
              "\n",
              "  <div id=\"df-51afae41-1fe7-4b63-a647-a4cdf27d8d0c\">\n",
              "    <div class=\"colab-df-container\">\n",
              "      <div>\n",
              "<style scoped>\n",
              "    .dataframe tbody tr th:only-of-type {\n",
              "        vertical-align: middle;\n",
              "    }\n",
              "\n",
              "    .dataframe tbody tr th {\n",
              "        vertical-align: top;\n",
              "    }\n",
              "\n",
              "    .dataframe thead th {\n",
              "        text-align: right;\n",
              "    }\n",
              "</style>\n",
              "<table border=\"1\" class=\"dataframe\">\n",
              "  <thead>\n",
              "    <tr style=\"text-align: right;\">\n",
              "      <th></th>\n",
              "      <th>Row ID</th>\n",
              "      <th>Order ID</th>\n",
              "      <th>Order Date</th>\n",
              "      <th>Ship Date</th>\n",
              "      <th>Ship Mode</th>\n",
              "      <th>Customer ID</th>\n",
              "      <th>Customer Name</th>\n",
              "      <th>Segment</th>\n",
              "      <th>City</th>\n",
              "      <th>State</th>\n",
              "      <th>...</th>\n",
              "      <th>Product ID</th>\n",
              "      <th>Category</th>\n",
              "      <th>Sub-Category</th>\n",
              "      <th>Product Name</th>\n",
              "      <th>Sales</th>\n",
              "      <th>Quantity</th>\n",
              "      <th>Discount</th>\n",
              "      <th>Profit</th>\n",
              "      <th>Shipping Cost</th>\n",
              "      <th>Order Priority</th>\n",
              "    </tr>\n",
              "  </thead>\n",
              "  <tbody>\n",
              "    <tr>\n",
              "      <th>count</th>\n",
              "      <td>51290.00000</td>\n",
              "      <td>51290</td>\n",
              "      <td>51290</td>\n",
              "      <td>51290</td>\n",
              "      <td>51290</td>\n",
              "      <td>51290</td>\n",
              "      <td>51290</td>\n",
              "      <td>51290</td>\n",
              "      <td>51290</td>\n",
              "      <td>51290</td>\n",
              "      <td>...</td>\n",
              "      <td>51290</td>\n",
              "      <td>51290</td>\n",
              "      <td>51290</td>\n",
              "      <td>51290</td>\n",
              "      <td>51290.000000</td>\n",
              "      <td>51290.000000</td>\n",
              "      <td>51290.000000</td>\n",
              "      <td>51290.000000</td>\n",
              "      <td>51290.000000</td>\n",
              "      <td>51290</td>\n",
              "    </tr>\n",
              "    <tr>\n",
              "      <th>unique</th>\n",
              "      <td>NaN</td>\n",
              "      <td>25035</td>\n",
              "      <td>1430</td>\n",
              "      <td>1464</td>\n",
              "      <td>4</td>\n",
              "      <td>1590</td>\n",
              "      <td>795</td>\n",
              "      <td>3</td>\n",
              "      <td>3636</td>\n",
              "      <td>1094</td>\n",
              "      <td>...</td>\n",
              "      <td>10292</td>\n",
              "      <td>3</td>\n",
              "      <td>17</td>\n",
              "      <td>3788</td>\n",
              "      <td>NaN</td>\n",
              "      <td>NaN</td>\n",
              "      <td>NaN</td>\n",
              "      <td>NaN</td>\n",
              "      <td>NaN</td>\n",
              "      <td>4</td>\n",
              "    </tr>\n",
              "    <tr>\n",
              "      <th>top</th>\n",
              "      <td>NaN</td>\n",
              "      <td>CA-2014-100111</td>\n",
              "      <td>6/18/2014</td>\n",
              "      <td>11/22/2014</td>\n",
              "      <td>Standard Class</td>\n",
              "      <td>PO-18850</td>\n",
              "      <td>Muhammed Yedwab</td>\n",
              "      <td>Consumer</td>\n",
              "      <td>New York City</td>\n",
              "      <td>California</td>\n",
              "      <td>...</td>\n",
              "      <td>OFF-AR-10003651</td>\n",
              "      <td>Office Supplies</td>\n",
              "      <td>Binders</td>\n",
              "      <td>Staples</td>\n",
              "      <td>NaN</td>\n",
              "      <td>NaN</td>\n",
              "      <td>NaN</td>\n",
              "      <td>NaN</td>\n",
              "      <td>NaN</td>\n",
              "      <td>Medium</td>\n",
              "    </tr>\n",
              "    <tr>\n",
              "      <th>freq</th>\n",
              "      <td>NaN</td>\n",
              "      <td>14</td>\n",
              "      <td>135</td>\n",
              "      <td>130</td>\n",
              "      <td>30775</td>\n",
              "      <td>97</td>\n",
              "      <td>108</td>\n",
              "      <td>26518</td>\n",
              "      <td>915</td>\n",
              "      <td>2001</td>\n",
              "      <td>...</td>\n",
              "      <td>35</td>\n",
              "      <td>31273</td>\n",
              "      <td>6152</td>\n",
              "      <td>227</td>\n",
              "      <td>NaN</td>\n",
              "      <td>NaN</td>\n",
              "      <td>NaN</td>\n",
              "      <td>NaN</td>\n",
              "      <td>NaN</td>\n",
              "      <td>29433</td>\n",
              "    </tr>\n",
              "    <tr>\n",
              "      <th>mean</th>\n",
              "      <td>25645.50000</td>\n",
              "      <td>NaN</td>\n",
              "      <td>NaN</td>\n",
              "      <td>NaN</td>\n",
              "      <td>NaN</td>\n",
              "      <td>NaN</td>\n",
              "      <td>NaN</td>\n",
              "      <td>NaN</td>\n",
              "      <td>NaN</td>\n",
              "      <td>NaN</td>\n",
              "      <td>...</td>\n",
              "      <td>NaN</td>\n",
              "      <td>NaN</td>\n",
              "      <td>NaN</td>\n",
              "      <td>NaN</td>\n",
              "      <td>246.490581</td>\n",
              "      <td>3.476545</td>\n",
              "      <td>0.142908</td>\n",
              "      <td>28.610982</td>\n",
              "      <td>26.375818</td>\n",
              "      <td>NaN</td>\n",
              "    </tr>\n",
              "    <tr>\n",
              "      <th>std</th>\n",
              "      <td>14806.29199</td>\n",
              "      <td>NaN</td>\n",
              "      <td>NaN</td>\n",
              "      <td>NaN</td>\n",
              "      <td>NaN</td>\n",
              "      <td>NaN</td>\n",
              "      <td>NaN</td>\n",
              "      <td>NaN</td>\n",
              "      <td>NaN</td>\n",
              "      <td>NaN</td>\n",
              "      <td>...</td>\n",
              "      <td>NaN</td>\n",
              "      <td>NaN</td>\n",
              "      <td>NaN</td>\n",
              "      <td>NaN</td>\n",
              "      <td>487.565361</td>\n",
              "      <td>2.278766</td>\n",
              "      <td>0.212280</td>\n",
              "      <td>174.340972</td>\n",
              "      <td>57.296810</td>\n",
              "      <td>NaN</td>\n",
              "    </tr>\n",
              "    <tr>\n",
              "      <th>min</th>\n",
              "      <td>1.00000</td>\n",
              "      <td>NaN</td>\n",
              "      <td>NaN</td>\n",
              "      <td>NaN</td>\n",
              "      <td>NaN</td>\n",
              "      <td>NaN</td>\n",
              "      <td>NaN</td>\n",
              "      <td>NaN</td>\n",
              "      <td>NaN</td>\n",
              "      <td>NaN</td>\n",
              "      <td>...</td>\n",
              "      <td>NaN</td>\n",
              "      <td>NaN</td>\n",
              "      <td>NaN</td>\n",
              "      <td>NaN</td>\n",
              "      <td>0.444000</td>\n",
              "      <td>1.000000</td>\n",
              "      <td>0.000000</td>\n",
              "      <td>-6599.978000</td>\n",
              "      <td>0.002000</td>\n",
              "      <td>NaN</td>\n",
              "    </tr>\n",
              "    <tr>\n",
              "      <th>25%</th>\n",
              "      <td>12823.25000</td>\n",
              "      <td>NaN</td>\n",
              "      <td>NaN</td>\n",
              "      <td>NaN</td>\n",
              "      <td>NaN</td>\n",
              "      <td>NaN</td>\n",
              "      <td>NaN</td>\n",
              "      <td>NaN</td>\n",
              "      <td>NaN</td>\n",
              "      <td>NaN</td>\n",
              "      <td>...</td>\n",
              "      <td>NaN</td>\n",
              "      <td>NaN</td>\n",
              "      <td>NaN</td>\n",
              "      <td>NaN</td>\n",
              "      <td>30.758625</td>\n",
              "      <td>2.000000</td>\n",
              "      <td>0.000000</td>\n",
              "      <td>0.000000</td>\n",
              "      <td>2.610000</td>\n",
              "      <td>NaN</td>\n",
              "    </tr>\n",
              "    <tr>\n",
              "      <th>50%</th>\n",
              "      <td>25645.50000</td>\n",
              "      <td>NaN</td>\n",
              "      <td>NaN</td>\n",
              "      <td>NaN</td>\n",
              "      <td>NaN</td>\n",
              "      <td>NaN</td>\n",
              "      <td>NaN</td>\n",
              "      <td>NaN</td>\n",
              "      <td>NaN</td>\n",
              "      <td>NaN</td>\n",
              "      <td>...</td>\n",
              "      <td>NaN</td>\n",
              "      <td>NaN</td>\n",
              "      <td>NaN</td>\n",
              "      <td>NaN</td>\n",
              "      <td>85.053000</td>\n",
              "      <td>3.000000</td>\n",
              "      <td>0.000000</td>\n",
              "      <td>9.240000</td>\n",
              "      <td>7.790000</td>\n",
              "      <td>NaN</td>\n",
              "    </tr>\n",
              "    <tr>\n",
              "      <th>75%</th>\n",
              "      <td>38467.75000</td>\n",
              "      <td>NaN</td>\n",
              "      <td>NaN</td>\n",
              "      <td>NaN</td>\n",
              "      <td>NaN</td>\n",
              "      <td>NaN</td>\n",
              "      <td>NaN</td>\n",
              "      <td>NaN</td>\n",
              "      <td>NaN</td>\n",
              "      <td>NaN</td>\n",
              "      <td>...</td>\n",
              "      <td>NaN</td>\n",
              "      <td>NaN</td>\n",
              "      <td>NaN</td>\n",
              "      <td>NaN</td>\n",
              "      <td>251.053200</td>\n",
              "      <td>5.000000</td>\n",
              "      <td>0.200000</td>\n",
              "      <td>36.810000</td>\n",
              "      <td>24.450000</td>\n",
              "      <td>NaN</td>\n",
              "    </tr>\n",
              "    <tr>\n",
              "      <th>max</th>\n",
              "      <td>51290.00000</td>\n",
              "      <td>NaN</td>\n",
              "      <td>NaN</td>\n",
              "      <td>NaN</td>\n",
              "      <td>NaN</td>\n",
              "      <td>NaN</td>\n",
              "      <td>NaN</td>\n",
              "      <td>NaN</td>\n",
              "      <td>NaN</td>\n",
              "      <td>NaN</td>\n",
              "      <td>...</td>\n",
              "      <td>NaN</td>\n",
              "      <td>NaN</td>\n",
              "      <td>NaN</td>\n",
              "      <td>NaN</td>\n",
              "      <td>22638.480000</td>\n",
              "      <td>14.000000</td>\n",
              "      <td>0.850000</td>\n",
              "      <td>8399.976000</td>\n",
              "      <td>933.570000</td>\n",
              "      <td>NaN</td>\n",
              "    </tr>\n",
              "  </tbody>\n",
              "</table>\n",
              "<p>11 rows × 24 columns</p>\n",
              "</div>\n",
              "      <button class=\"colab-df-convert\" onclick=\"convertToInteractive('df-51afae41-1fe7-4b63-a647-a4cdf27d8d0c')\"\n",
              "              title=\"Convert this dataframe to an interactive table.\"\n",
              "              style=\"display:none;\">\n",
              "        \n",
              "  <svg xmlns=\"http://www.w3.org/2000/svg\" height=\"24px\"viewBox=\"0 0 24 24\"\n",
              "       width=\"24px\">\n",
              "    <path d=\"M0 0h24v24H0V0z\" fill=\"none\"/>\n",
              "    <path d=\"M18.56 5.44l.94 2.06.94-2.06 2.06-.94-2.06-.94-.94-2.06-.94 2.06-2.06.94zm-11 1L8.5 8.5l.94-2.06 2.06-.94-2.06-.94L8.5 2.5l-.94 2.06-2.06.94zm10 10l.94 2.06.94-2.06 2.06-.94-2.06-.94-.94-2.06-.94 2.06-2.06.94z\"/><path d=\"M17.41 7.96l-1.37-1.37c-.4-.4-.92-.59-1.43-.59-.52 0-1.04.2-1.43.59L10.3 9.45l-7.72 7.72c-.78.78-.78 2.05 0 2.83L4 21.41c.39.39.9.59 1.41.59.51 0 1.02-.2 1.41-.59l7.78-7.78 2.81-2.81c.8-.78.8-2.07 0-2.86zM5.41 20L4 18.59l7.72-7.72 1.47 1.35L5.41 20z\"/>\n",
              "  </svg>\n",
              "      </button>\n",
              "      \n",
              "  <style>\n",
              "    .colab-df-container {\n",
              "      display:flex;\n",
              "      flex-wrap:wrap;\n",
              "      gap: 12px;\n",
              "    }\n",
              "\n",
              "    .colab-df-convert {\n",
              "      background-color: #E8F0FE;\n",
              "      border: none;\n",
              "      border-radius: 50%;\n",
              "      cursor: pointer;\n",
              "      display: none;\n",
              "      fill: #1967D2;\n",
              "      height: 32px;\n",
              "      padding: 0 0 0 0;\n",
              "      width: 32px;\n",
              "    }\n",
              "\n",
              "    .colab-df-convert:hover {\n",
              "      background-color: #E2EBFA;\n",
              "      box-shadow: 0px 1px 2px rgba(60, 64, 67, 0.3), 0px 1px 3px 1px rgba(60, 64, 67, 0.15);\n",
              "      fill: #174EA6;\n",
              "    }\n",
              "\n",
              "    [theme=dark] .colab-df-convert {\n",
              "      background-color: #3B4455;\n",
              "      fill: #D2E3FC;\n",
              "    }\n",
              "\n",
              "    [theme=dark] .colab-df-convert:hover {\n",
              "      background-color: #434B5C;\n",
              "      box-shadow: 0px 1px 3px 1px rgba(0, 0, 0, 0.15);\n",
              "      filter: drop-shadow(0px 1px 2px rgba(0, 0, 0, 0.3));\n",
              "      fill: #FFFFFF;\n",
              "    }\n",
              "  </style>\n",
              "\n",
              "      <script>\n",
              "        const buttonEl =\n",
              "          document.querySelector('#df-51afae41-1fe7-4b63-a647-a4cdf27d8d0c button.colab-df-convert');\n",
              "        buttonEl.style.display =\n",
              "          google.colab.kernel.accessAllowed ? 'block' : 'none';\n",
              "\n",
              "        async function convertToInteractive(key) {\n",
              "          const element = document.querySelector('#df-51afae41-1fe7-4b63-a647-a4cdf27d8d0c');\n",
              "          const dataTable =\n",
              "            await google.colab.kernel.invokeFunction('convertToInteractive',\n",
              "                                                     [key], {});\n",
              "          if (!dataTable) return;\n",
              "\n",
              "          const docLinkHtml = 'Like what you see? Visit the ' +\n",
              "            '<a target=\"_blank\" href=https://colab.research.google.com/notebooks/data_table.ipynb>data table notebook</a>'\n",
              "            + ' to learn more about interactive tables.';\n",
              "          element.innerHTML = '';\n",
              "          dataTable['output_type'] = 'display_data';\n",
              "          await google.colab.output.renderOutput(dataTable, element);\n",
              "          const docLink = document.createElement('div');\n",
              "          docLink.innerHTML = docLinkHtml;\n",
              "          element.appendChild(docLink);\n",
              "        }\n",
              "      </script>\n",
              "    </div>\n",
              "  </div>\n",
              "  "
            ]
          },
          "metadata": {},
          "execution_count": 54
        }
      ],
      "source": [
        "store.describe(include='all')"
      ]
    },
    {
      "cell_type": "code",
      "execution_count": null,
      "metadata": {
        "colab": {
          "base_uri": "https://localhost:8080/"
        },
        "id": "9Kw761HxlGdl",
        "outputId": "ff3137d2-25f7-4cd8-c38b-1ea824adb270"
      },
      "outputs": [
        {
          "output_type": "execute_result",
          "data": {
            "text/plain": [
              "Row ID            40349\n",
              "Order ID          21950\n",
              "Order Date         1422\n",
              "Ship Date          1464\n",
              "Ship Mode             4\n",
              "Customer ID        1587\n",
              "Customer Name       795\n",
              "Segment               3\n",
              "City               3510\n",
              "State              1072\n",
              "Country             147\n",
              "Postal Code         590\n",
              "Market                8\n",
              "Region               13\n",
              "Product ID         9651\n",
              "Category              3\n",
              "Sub-Category         17\n",
              "Product Name       3563\n",
              "Sales             20375\n",
              "Quantity             14\n",
              "Discount             27\n",
              "Profit            20882\n",
              "Shipping Cost     15494\n",
              "Order Priority        4\n",
              "dtype: int64"
            ]
          },
          "metadata": {},
          "execution_count": 12
        }
      ],
      "source": [
        "store.nunique()"
      ]
    },
    {
      "cell_type": "code",
      "execution_count": null,
      "metadata": {
        "id": "4RPRyrIFlGdm"
      },
      "outputs": [],
      "source": [
        "# we find some columns necessary for our analysis and visualization so we are dropping these columns.\n",
        "store=store.drop(['Row ID','Order ID','Customer ID','Postal Code','Product ID'],axis=1)\n"
      ]
    },
    {
      "cell_type": "code",
      "execution_count": null,
      "metadata": {
        "colab": {
          "base_uri": "https://localhost:8080/"
        },
        "id": "lI-4w0X6lGdo",
        "outputId": "62bb0f61-41e7-4518-b004-f51280447198"
      },
      "outputs": [
        {
          "output_type": "stream",
          "name": "stdout",
          "text": [
            "<class 'pandas.core.frame.DataFrame'>\n",
            "RangeIndex: 40349 entries, 0 to 40348\n",
            "Data columns (total 19 columns):\n",
            " #   Column          Non-Null Count  Dtype  \n",
            "---  ------          --------------  -----  \n",
            " 0   Order Date      40349 non-null  object \n",
            " 1   Ship Date       40349 non-null  object \n",
            " 2   Ship Mode       40349 non-null  object \n",
            " 3   Customer Name   40349 non-null  object \n",
            " 4   Segment         40349 non-null  object \n",
            " 5   City            40349 non-null  object \n",
            " 6   State           40349 non-null  object \n",
            " 7   Country         40349 non-null  object \n",
            " 8   Market          40349 non-null  object \n",
            " 9   Region          40348 non-null  object \n",
            " 10  Category        40348 non-null  object \n",
            " 11  Sub-Category    40348 non-null  object \n",
            " 12  Product Name    40348 non-null  object \n",
            " 13  Sales           40348 non-null  float64\n",
            " 14  Quantity        40348 non-null  float64\n",
            " 15  Discount        40348 non-null  float64\n",
            " 16  Profit          40348 non-null  float64\n",
            " 17  Shipping Cost   40348 non-null  float64\n",
            " 18  Order Priority  40348 non-null  object \n",
            "dtypes: float64(5), object(14)\n",
            "memory usage: 5.8+ MB\n"
          ]
        }
      ],
      "source": [
        "store.info()"
      ]
    },
    {
      "cell_type": "code",
      "execution_count": null,
      "metadata": {
        "colab": {
          "base_uri": "https://localhost:8080/"
        },
        "id": "FjGnfByMlGdp",
        "outputId": "d5b10992-608a-48b6-c585-18462c7531ff"
      },
      "outputs": [
        {
          "output_type": "execute_result",
          "data": {
            "text/plain": [
              "0    0.0\n",
              "1    0.1\n",
              "2    0.1\n",
              "3    0.1\n",
              "4    0.0\n",
              "Name: Discount, dtype: float64"
            ]
          },
          "metadata": {},
          "execution_count": 15
        }
      ],
      "source": [
        "store['Discount'].head()\n",
        "# From here we find that discount is somewhat looking different to understand properly. \n",
        "# So we are going to make discount in an understandable form."
      ]
    },
    {
      "cell_type": "code",
      "execution_count": null,
      "metadata": {
        "id": "DPya2aWQlGdq"
      },
      "outputs": [],
      "source": [
        "store['Discount']=(store['Discount']*100)"
      ]
    },
    {
      "cell_type": "code",
      "execution_count": null,
      "metadata": {
        "colab": {
          "base_uri": "https://localhost:8080/"
        },
        "id": "EqUWhNo-lGdr",
        "outputId": "7555c6bb-4d42-4aba-9242-1aee12d2ff10"
      },
      "outputs": [
        {
          "output_type": "execute_result",
          "data": {
            "text/plain": [
              "0         0.0\n",
              "1        10.0\n",
              "2        10.0\n",
              "3        10.0\n",
              "4         0.0\n",
              "         ... \n",
              "40344     0.0\n",
              "40345    50.0\n",
              "40346    10.0\n",
              "40347     0.0\n",
              "40348     NaN\n",
              "Name: Discount, Length: 40349, dtype: float64"
            ]
          },
          "metadata": {},
          "execution_count": 17
        }
      ],
      "source": [
        "store['Discount']\n",
        "# Here , we multiplied discount column by 100. "
      ]
    },
    {
      "cell_type": "code",
      "execution_count": null,
      "metadata": {
        "colab": {
          "base_uri": "https://localhost:8080/"
        },
        "id": "1NvcW-NulGds",
        "outputId": "b7933df5-737d-40cc-da30-8c8105c44498"
      },
      "outputs": [
        {
          "output_type": "execute_result",
          "data": {
            "text/plain": [
              "Order Date        0\n",
              "Ship Date         0\n",
              "Ship Mode         0\n",
              "Customer Name     0\n",
              "Segment           0\n",
              "City              0\n",
              "State             0\n",
              "Country           0\n",
              "Market            0\n",
              "Region            1\n",
              "Category          1\n",
              "Sub-Category      1\n",
              "Product Name      1\n",
              "Sales             1\n",
              "Quantity          1\n",
              "Discount          1\n",
              "Profit            1\n",
              "Shipping Cost     1\n",
              "Order Priority    1\n",
              "dtype: int64"
            ]
          },
          "metadata": {},
          "execution_count": 18
        }
      ],
      "source": [
        "store.isna().sum()\n",
        "# There is no null value \n"
      ]
    },
    {
      "cell_type": "code",
      "execution_count": null,
      "metadata": {
        "colab": {
          "base_uri": "https://localhost:8080/"
        },
        "id": "anbcJN6tlGds",
        "outputId": "e14b2169-0a1d-4d9d-9e5e-7e0a20230f91"
      },
      "outputs": [
        {
          "output_type": "execute_result",
          "data": {
            "text/plain": [
              "0"
            ]
          },
          "metadata": {},
          "execution_count": 19
        }
      ],
      "source": [
        "store.duplicated().sum()\n",
        "# Also, this dataset has no duplicate value "
      ]
    },
    {
      "cell_type": "code",
      "execution_count": null,
      "metadata": {
        "colab": {
          "base_uri": "https://localhost:8080/"
        },
        "id": "8AKaqu6ylGdt",
        "outputId": "e2b8b7f1-fd9f-4364-9d50-fc70eac17d36"
      },
      "outputs": [
        {
          "output_type": "execute_result",
          "data": {
            "text/plain": [
              "Standard Class    23122\n",
              "Second Class       8409\n",
              "First Class        6466\n",
              "Same Day           2352\n",
              "Name: Ship Mode, dtype: int64"
            ]
          },
          "metadata": {},
          "execution_count": 20
        }
      ],
      "source": [
        "# Knowing about no of unique values in the column \n",
        "ship_mode = store['Ship Mode'].value_counts()\n",
        "ship_mode"
      ]
    },
    {
      "cell_type": "code",
      "execution_count": null,
      "metadata": {
        "colab": {
          "base_uri": "https://localhost:8080/"
        },
        "id": "vQ-_IvG6lGdt",
        "outputId": "13bd9c22-9c28-4b96-a5e7-7df4dc32c08d"
      },
      "outputs": [
        {
          "output_type": "execute_result",
          "data": {
            "text/plain": [
              "Consumer       20877\n",
              "Corporate      12130\n",
              "Home Office     7342\n",
              "Name: Segment, dtype: int64"
            ]
          },
          "metadata": {},
          "execution_count": 21
        }
      ],
      "source": [
        "# Knowing about no of unique values in the column\n",
        "segment = store['Segment'].value_counts()\n",
        "segment"
      ]
    },
    {
      "cell_type": "code",
      "execution_count": null,
      "metadata": {
        "colab": {
          "base_uri": "https://localhost:8080/"
        },
        "id": "FK7Ry7n4lGdu",
        "outputId": "ccf7bdec-50e3-4003-e2e9-5bbcfb9d2fe1"
      },
      "outputs": [
        {
          "output_type": "execute_result",
          "data": {
            "text/plain": [
              "New York City    915\n",
              "Los Angeles      747\n",
              "Philadelphia     537\n",
              "San Francisco    510\n",
              "Santo Domingo    443\n",
              "Name: City, dtype: int64"
            ]
          },
          "metadata": {},
          "execution_count": 59
        }
      ],
      "source": [
        "# Knowing about no of unique values in the column\n",
        "city = store['City'].value_counts()\n",
        "city.head(5)"
      ]
    },
    {
      "cell_type": "code",
      "execution_count": null,
      "metadata": {
        "colab": {
          "base_uri": "https://localhost:8080/"
        },
        "id": "Bw-r4XWklGdu",
        "outputId": "a61077c6-3711-4c0c-f167-d900a3de8efa"
      },
      "outputs": [
        {
          "output_type": "execute_result",
          "data": {
            "text/plain": [
              "Newark                        95\n",
              "Geelong                       94\n",
              "Richmond                      94\n",
              "Izmir                         93\n",
              "Santiago de los Caballeros    93\n",
              "                              ..\n",
              "Vesoul                         1\n",
              "Várzea Grande                  1\n",
              "Luanshya                       1\n",
              "Kissimmee                      1\n",
              "Victoria Falls                 1\n",
              "Name: City, Length: 3561, dtype: int64"
            ]
          },
          "metadata": {},
          "execution_count": 60
        }
      ],
      "source": [
        "City_less_than100=city[city<100]\n",
        "City_less_than100"
      ]
    },
    {
      "cell_type": "code",
      "execution_count": null,
      "metadata": {
        "colab": {
          "base_uri": "https://localhost:8080/"
        },
        "id": "NiSTEFaxlGdv",
        "outputId": "432a840e-a06c-4992-9a0a-975f3f5f79ac"
      },
      "outputs": [
        {
          "output_type": "execute_result",
          "data": {
            "text/plain": [
              "New York City    915\n",
              "Los Angeles      747\n",
              "Philadelphia     537\n",
              "San Francisco    510\n",
              "Santo Domingo    443\n",
              "                ... \n",
              "Bogotá           102\n",
              "Guadalajara      102\n",
              "Marseille        102\n",
              "Bandung          101\n",
              "Ankara           100\n",
              "Name: City, Length: 75, dtype: int64"
            ]
          },
          "metadata": {},
          "execution_count": 61
        }
      ],
      "source": [
        "def handle_City(value):\n",
        "    if (value in City_less_than100):\n",
        "        pass\n",
        "    else:\n",
        "        return value\n",
        "        \n",
        "store['City'] = store['City'].apply(handle_City)\n",
        "store['City'].value_counts()"
      ]
    },
    {
      "cell_type": "code",
      "execution_count": null,
      "metadata": {
        "colab": {
          "base_uri": "https://localhost:8080/"
        },
        "id": "uFDL-4UTlGdv",
        "outputId": "8dfe33a6-0b66-4e9c-953e-d7f5e5a974ef"
      },
      "outputs": [
        {
          "output_type": "execute_result",
          "data": {
            "text/plain": [
              "California                    1405\n",
              "England                       1308\n",
              "Ile-de-France                  873\n",
              "New York                       799\n",
              "New South Wales                673\n",
              "North Rhine-Westphalia         645\n",
              "Queensland                     608\n",
              "Texas                          569\n",
              "San Salvador                   510\n",
              "National Capital               477\n",
              "Victoria                       443\n",
              "Distrito Federal               388\n",
              "Pennsylvania                   361\n",
              "Santo Domingo                  356\n",
              "Provence-Alpes-Côte d'Azur     353\n",
              "Washington                     345\n",
              "São Paulo                      343\n",
              "Guatemala                      329\n",
              "Ohio                           306\n",
              "Name: State, dtype: int64"
            ]
          },
          "metadata": {},
          "execution_count": 25
        }
      ],
      "source": [
        "# Cleaning the State column\n",
        "State = store['State'].value_counts(ascending  = False)\n",
        "State_less_than300=State[State<300]\n",
        "\n",
        "def handle_State(value):\n",
        "    if(value in State_less_than300):\n",
        "        pass\n",
        "    else:\n",
        "        return value\n",
        "        \n",
        "store['State'] = store['State'].apply(handle_State)\n",
        "store['State'].value_counts()"
      ]
    },
    {
      "cell_type": "code",
      "execution_count": null,
      "metadata": {
        "colab": {
          "base_uri": "https://localhost:8080/"
        },
        "id": "JWwKkkjplGdw",
        "outputId": "95fa1b76-a7a8-4991-afca-4b62123aa134"
      },
      "outputs": [
        {
          "output_type": "execute_result",
          "data": {
            "text/plain": [
              "others           10816\n",
              "United States     9994\n",
              "Australia         2837\n",
              "France            2827\n",
              "Mexico            2644\n",
              "Name: Country, dtype: int64"
            ]
          },
          "metadata": {},
          "execution_count": 69
        }
      ],
      "source": [
        "# Cleaning the country column\n",
        "Country = store['Country'].value_counts()\n",
        "Country_less_than400=Country[Country<400]\n",
        "\n",
        "def handle_Country(value):\n",
        "    if(value in Country_less_than400):\n",
        "        return 'others'\n",
        "    else:\n",
        "        return value\n",
        "        \n",
        "store['Country'] = store['Country'].apply(handle_Country)\n",
        "store['Country'].value_counts().head()"
      ]
    },
    {
      "cell_type": "code",
      "execution_count": null,
      "metadata": {
        "colab": {
          "base_uri": "https://localhost:8080/"
        },
        "id": "AZS0ir5LlGdw",
        "outputId": "9abd5da8-3703-4a2c-8dfe-6121be65a565"
      },
      "outputs": [
        {
          "output_type": "execute_result",
          "data": {
            "text/plain": [
              "Central    8904\n",
              "South      5333\n",
              "North      4020\n",
              "EMEA       3532\n",
              "Africa     3249\n",
              "Name: Region, dtype: int64"
            ]
          },
          "metadata": {},
          "execution_count": 27
        }
      ],
      "source": [
        "# Cleaning the region column \n",
        "Region = store['Region'].value_counts(ascending  = False)\n",
        "Region_less_than100=Region[Region<100]\n",
        "\n",
        "def handle_Region(value):\n",
        "    if(value in Region_less_than100):\n",
        "        return 'others'\n",
        "    else:\n",
        "        return value\n",
        "        \n",
        "store['Region'] = store['Region'].apply(handle_Region)\n",
        "store['Region'].value_counts().head()"
      ]
    },
    {
      "cell_type": "code",
      "execution_count": null,
      "metadata": {
        "colab": {
          "base_uri": "https://localhost:8080/"
        },
        "id": "OXSqv0FUlGdy",
        "outputId": "75e29141-58ec-47b6-ee00-d43eb6e9fc48"
      },
      "outputs": [
        {
          "output_type": "execute_result",
          "data": {
            "text/plain": [
              "APAC     9502\n",
              "EU       8817\n",
              "LATAM    8255\n",
              "US       6701\n",
              "EMEA     3532\n",
              "Name: Market, dtype: int64"
            ]
          },
          "metadata": {},
          "execution_count": 28
        }
      ],
      "source": [
        "# Cleaning the Market column \n",
        "Market = store['Market'].value_counts()\n",
        "Market.head()"
      ]
    },
    {
      "cell_type": "code",
      "execution_count": null,
      "metadata": {
        "colab": {
          "base_uri": "https://localhost:8080/"
        },
        "id": "dgQ5LoUklGdz",
        "outputId": "1c77e0ce-4f93-4441-9467-ac8c03b8e49d"
      },
      "outputs": [
        {
          "output_type": "execute_result",
          "data": {
            "text/plain": [
              "Office Supplies    21519\n",
              "Technology          9698\n",
              "Furniture           9131\n",
              "Name: Category, dtype: int64"
            ]
          },
          "metadata": {},
          "execution_count": 29
        }
      ],
      "source": [
        "# Cleaning the Category Column \n",
        "Category = store['Category'].value_counts()\n",
        "Category"
      ]
    },
    {
      "cell_type": "code",
      "execution_count": null,
      "metadata": {
        "colab": {
          "base_uri": "https://localhost:8080/",
          "height": 350
        },
        "id": "41qRwRBIlGdz",
        "outputId": "7c98c9ef-73e6-4f0b-b375-217796ff4054"
      },
      "outputs": [
        {
          "output_type": "execute_result",
          "data": {
            "text/plain": [
              "  Order Date  Ship Date     Ship Mode  Customer Name    Segment  \\\n",
              "0  7/31/2012  7/31/2012      Same Day    Rick Hansen   Consumer   \n",
              "1   2/5/2013   2/7/2013  Second Class  Justin Ritter  Corporate   \n",
              "\n",
              "            City            State        Country Market   Region    Category  \\\n",
              "0  New York City         New York  United States     US     East  Technology   \n",
              "1     Wollongong  New South Wales      Australia   APAC  Oceania   Furniture   \n",
              "\n",
              "  Sub_Category                                       Product Name     Sales  \\\n",
              "0  Accessories  Plantronics CS510 - Over-the-Head monaural Wir...  2309.650   \n",
              "1       Chairs          Novimex Executive Leather Armchair, Black  3709.395   \n",
              "\n",
              "   Quantity  Discount    Profit  Shipping Cost Order Priority  \n",
              "0       7.0       0.0  762.1845         933.57       Critical  \n",
              "1       9.0      10.0 -288.7650         923.63       Critical  "
            ],
            "text/html": [
              "\n",
              "  <div id=\"df-7d03bff1-04d7-4526-9f0a-7462b68b40b9\">\n",
              "    <div class=\"colab-df-container\">\n",
              "      <div>\n",
              "<style scoped>\n",
              "    .dataframe tbody tr th:only-of-type {\n",
              "        vertical-align: middle;\n",
              "    }\n",
              "\n",
              "    .dataframe tbody tr th {\n",
              "        vertical-align: top;\n",
              "    }\n",
              "\n",
              "    .dataframe thead th {\n",
              "        text-align: right;\n",
              "    }\n",
              "</style>\n",
              "<table border=\"1\" class=\"dataframe\">\n",
              "  <thead>\n",
              "    <tr style=\"text-align: right;\">\n",
              "      <th></th>\n",
              "      <th>Order Date</th>\n",
              "      <th>Ship Date</th>\n",
              "      <th>Ship Mode</th>\n",
              "      <th>Customer Name</th>\n",
              "      <th>Segment</th>\n",
              "      <th>City</th>\n",
              "      <th>State</th>\n",
              "      <th>Country</th>\n",
              "      <th>Market</th>\n",
              "      <th>Region</th>\n",
              "      <th>Category</th>\n",
              "      <th>Sub_Category</th>\n",
              "      <th>Product Name</th>\n",
              "      <th>Sales</th>\n",
              "      <th>Quantity</th>\n",
              "      <th>Discount</th>\n",
              "      <th>Profit</th>\n",
              "      <th>Shipping Cost</th>\n",
              "      <th>Order Priority</th>\n",
              "    </tr>\n",
              "  </thead>\n",
              "  <tbody>\n",
              "    <tr>\n",
              "      <th>0</th>\n",
              "      <td>7/31/2012</td>\n",
              "      <td>7/31/2012</td>\n",
              "      <td>Same Day</td>\n",
              "      <td>Rick Hansen</td>\n",
              "      <td>Consumer</td>\n",
              "      <td>New York City</td>\n",
              "      <td>New York</td>\n",
              "      <td>United States</td>\n",
              "      <td>US</td>\n",
              "      <td>East</td>\n",
              "      <td>Technology</td>\n",
              "      <td>Accessories</td>\n",
              "      <td>Plantronics CS510 - Over-the-Head monaural Wir...</td>\n",
              "      <td>2309.650</td>\n",
              "      <td>7.0</td>\n",
              "      <td>0.0</td>\n",
              "      <td>762.1845</td>\n",
              "      <td>933.57</td>\n",
              "      <td>Critical</td>\n",
              "    </tr>\n",
              "    <tr>\n",
              "      <th>1</th>\n",
              "      <td>2/5/2013</td>\n",
              "      <td>2/7/2013</td>\n",
              "      <td>Second Class</td>\n",
              "      <td>Justin Ritter</td>\n",
              "      <td>Corporate</td>\n",
              "      <td>Wollongong</td>\n",
              "      <td>New South Wales</td>\n",
              "      <td>Australia</td>\n",
              "      <td>APAC</td>\n",
              "      <td>Oceania</td>\n",
              "      <td>Furniture</td>\n",
              "      <td>Chairs</td>\n",
              "      <td>Novimex Executive Leather Armchair, Black</td>\n",
              "      <td>3709.395</td>\n",
              "      <td>9.0</td>\n",
              "      <td>10.0</td>\n",
              "      <td>-288.7650</td>\n",
              "      <td>923.63</td>\n",
              "      <td>Critical</td>\n",
              "    </tr>\n",
              "  </tbody>\n",
              "</table>\n",
              "</div>\n",
              "      <button class=\"colab-df-convert\" onclick=\"convertToInteractive('df-7d03bff1-04d7-4526-9f0a-7462b68b40b9')\"\n",
              "              title=\"Convert this dataframe to an interactive table.\"\n",
              "              style=\"display:none;\">\n",
              "        \n",
              "  <svg xmlns=\"http://www.w3.org/2000/svg\" height=\"24px\"viewBox=\"0 0 24 24\"\n",
              "       width=\"24px\">\n",
              "    <path d=\"M0 0h24v24H0V0z\" fill=\"none\"/>\n",
              "    <path d=\"M18.56 5.44l.94 2.06.94-2.06 2.06-.94-2.06-.94-.94-2.06-.94 2.06-2.06.94zm-11 1L8.5 8.5l.94-2.06 2.06-.94-2.06-.94L8.5 2.5l-.94 2.06-2.06.94zm10 10l.94 2.06.94-2.06 2.06-.94-2.06-.94-.94-2.06-.94 2.06-2.06.94z\"/><path d=\"M17.41 7.96l-1.37-1.37c-.4-.4-.92-.59-1.43-.59-.52 0-1.04.2-1.43.59L10.3 9.45l-7.72 7.72c-.78.78-.78 2.05 0 2.83L4 21.41c.39.39.9.59 1.41.59.51 0 1.02-.2 1.41-.59l7.78-7.78 2.81-2.81c.8-.78.8-2.07 0-2.86zM5.41 20L4 18.59l7.72-7.72 1.47 1.35L5.41 20z\"/>\n",
              "  </svg>\n",
              "      </button>\n",
              "      \n",
              "  <style>\n",
              "    .colab-df-container {\n",
              "      display:flex;\n",
              "      flex-wrap:wrap;\n",
              "      gap: 12px;\n",
              "    }\n",
              "\n",
              "    .colab-df-convert {\n",
              "      background-color: #E8F0FE;\n",
              "      border: none;\n",
              "      border-radius: 50%;\n",
              "      cursor: pointer;\n",
              "      display: none;\n",
              "      fill: #1967D2;\n",
              "      height: 32px;\n",
              "      padding: 0 0 0 0;\n",
              "      width: 32px;\n",
              "    }\n",
              "\n",
              "    .colab-df-convert:hover {\n",
              "      background-color: #E2EBFA;\n",
              "      box-shadow: 0px 1px 2px rgba(60, 64, 67, 0.3), 0px 1px 3px 1px rgba(60, 64, 67, 0.15);\n",
              "      fill: #174EA6;\n",
              "    }\n",
              "\n",
              "    [theme=dark] .colab-df-convert {\n",
              "      background-color: #3B4455;\n",
              "      fill: #D2E3FC;\n",
              "    }\n",
              "\n",
              "    [theme=dark] .colab-df-convert:hover {\n",
              "      background-color: #434B5C;\n",
              "      box-shadow: 0px 1px 3px 1px rgba(0, 0, 0, 0.15);\n",
              "      filter: drop-shadow(0px 1px 2px rgba(0, 0, 0, 0.3));\n",
              "      fill: #FFFFFF;\n",
              "    }\n",
              "  </style>\n",
              "\n",
              "      <script>\n",
              "        const buttonEl =\n",
              "          document.querySelector('#df-7d03bff1-04d7-4526-9f0a-7462b68b40b9 button.colab-df-convert');\n",
              "        buttonEl.style.display =\n",
              "          google.colab.kernel.accessAllowed ? 'block' : 'none';\n",
              "\n",
              "        async function convertToInteractive(key) {\n",
              "          const element = document.querySelector('#df-7d03bff1-04d7-4526-9f0a-7462b68b40b9');\n",
              "          const dataTable =\n",
              "            await google.colab.kernel.invokeFunction('convertToInteractive',\n",
              "                                                     [key], {});\n",
              "          if (!dataTable) return;\n",
              "\n",
              "          const docLinkHtml = 'Like what you see? Visit the ' +\n",
              "            '<a target=\"_blank\" href=https://colab.research.google.com/notebooks/data_table.ipynb>data table notebook</a>'\n",
              "            + ' to learn more about interactive tables.';\n",
              "          element.innerHTML = '';\n",
              "          dataTable['output_type'] = 'display_data';\n",
              "          await google.colab.output.renderOutput(dataTable, element);\n",
              "          const docLink = document.createElement('div');\n",
              "          docLink.innerHTML = docLinkHtml;\n",
              "          element.appendChild(docLink);\n",
              "        }\n",
              "      </script>\n",
              "    </div>\n",
              "  </div>\n",
              "  "
            ]
          },
          "metadata": {},
          "execution_count": 30
        }
      ],
      "source": [
        "# Renaming the Sub Category column \n",
        "store.rename(columns = {'Sub-Category':'Sub_Category'}, inplace = True)\n",
        "store.head(2)\n",
        "\n"
      ]
    },
    {
      "cell_type": "code",
      "execution_count": null,
      "metadata": {
        "colab": {
          "base_uri": "https://localhost:8080/"
        },
        "id": "UxJqWX3tlGd0",
        "outputId": "06a2075f-8bac-4f83-823d-d8074ecf408c"
      },
      "outputs": [
        {
          "output_type": "execute_result",
          "data": {
            "text/plain": [
              "Storage    4374\n",
              "Art        3489\n",
              "Binders    3423\n",
              "Name: Sub_Category, dtype: int64"
            ]
          },
          "metadata": {},
          "execution_count": 31
        }
      ],
      "source": [
        "Sub_Category = store['Sub_Category'].value_counts()\n",
        "Sub_Category.head(3)"
      ]
    },
    {
      "cell_type": "code",
      "execution_count": null,
      "metadata": {
        "colab": {
          "base_uri": "https://localhost:8080/"
        },
        "id": "-hg0efijlGd0",
        "outputId": "478a5ff6-1df1-46be-84d9-30fc8f528eae"
      },
      "outputs": [
        {
          "output_type": "execute_result",
          "data": {
            "text/plain": [
              "Medium      21491\n",
              "High        13174\n",
              "Critical     3675\n",
              "Low          2008\n",
              "Name: Order Priority, dtype: int64"
            ]
          },
          "metadata": {},
          "execution_count": 32
        }
      ],
      "source": [
        "OrderPriority = store['Order Priority'].value_counts()\n",
        "OrderPriority"
      ]
    },
    {
      "cell_type": "code",
      "execution_count": null,
      "metadata": {
        "colab": {
          "base_uri": "https://localhost:8080/",
          "height": 614
        },
        "id": "rdwzu1gmlGd2",
        "outputId": "563466fd-78be-4300-b971-dab23e9df85b"
      },
      "outputs": [
        {
          "output_type": "execute_result",
          "data": {
            "text/plain": [
              "                 Sales     Profit\n",
              "Sub_Category                     \n",
              "Accessories   2309.650   762.1845\n",
              "Appliances    3701.520  1036.0800\n",
              "Art            439.680   153.8400\n",
              "Binders       5083.960  1906.4850\n",
              "Bookcases     5667.870  2097.0300\n",
              "Chairs        3709.395  -288.7650\n",
              "Copiers       2832.960   311.5200\n",
              "Envelopes      361.584   -16.1760\n",
              "Fasteners      199.080    65.5200\n",
              "Furnishings    756.800    75.6800\n",
              "Labels         491.550   240.8595\n",
              "Machines      2402.865   763.1550\n",
              "Paper          629.100   301.9680\n",
              "Phones        5175.171   919.9710\n",
              "Storage       1261.330   327.9458\n",
              "Supplies      4164.050    83.2810\n",
              "Tables        5244.840   996.4800"
            ],
            "text/html": [
              "\n",
              "  <div id=\"df-8ea1dd40-46e4-458f-8dec-b8d96b1c5614\">\n",
              "    <div class=\"colab-df-container\">\n",
              "      <div>\n",
              "<style scoped>\n",
              "    .dataframe tbody tr th:only-of-type {\n",
              "        vertical-align: middle;\n",
              "    }\n",
              "\n",
              "    .dataframe tbody tr th {\n",
              "        vertical-align: top;\n",
              "    }\n",
              "\n",
              "    .dataframe thead th {\n",
              "        text-align: right;\n",
              "    }\n",
              "</style>\n",
              "<table border=\"1\" class=\"dataframe\">\n",
              "  <thead>\n",
              "    <tr style=\"text-align: right;\">\n",
              "      <th></th>\n",
              "      <th>Sales</th>\n",
              "      <th>Profit</th>\n",
              "    </tr>\n",
              "    <tr>\n",
              "      <th>Sub_Category</th>\n",
              "      <th></th>\n",
              "      <th></th>\n",
              "    </tr>\n",
              "  </thead>\n",
              "  <tbody>\n",
              "    <tr>\n",
              "      <th>Accessories</th>\n",
              "      <td>2309.650</td>\n",
              "      <td>762.1845</td>\n",
              "    </tr>\n",
              "    <tr>\n",
              "      <th>Appliances</th>\n",
              "      <td>3701.520</td>\n",
              "      <td>1036.0800</td>\n",
              "    </tr>\n",
              "    <tr>\n",
              "      <th>Art</th>\n",
              "      <td>439.680</td>\n",
              "      <td>153.8400</td>\n",
              "    </tr>\n",
              "    <tr>\n",
              "      <th>Binders</th>\n",
              "      <td>5083.960</td>\n",
              "      <td>1906.4850</td>\n",
              "    </tr>\n",
              "    <tr>\n",
              "      <th>Bookcases</th>\n",
              "      <td>5667.870</td>\n",
              "      <td>2097.0300</td>\n",
              "    </tr>\n",
              "    <tr>\n",
              "      <th>Chairs</th>\n",
              "      <td>3709.395</td>\n",
              "      <td>-288.7650</td>\n",
              "    </tr>\n",
              "    <tr>\n",
              "      <th>Copiers</th>\n",
              "      <td>2832.960</td>\n",
              "      <td>311.5200</td>\n",
              "    </tr>\n",
              "    <tr>\n",
              "      <th>Envelopes</th>\n",
              "      <td>361.584</td>\n",
              "      <td>-16.1760</td>\n",
              "    </tr>\n",
              "    <tr>\n",
              "      <th>Fasteners</th>\n",
              "      <td>199.080</td>\n",
              "      <td>65.5200</td>\n",
              "    </tr>\n",
              "    <tr>\n",
              "      <th>Furnishings</th>\n",
              "      <td>756.800</td>\n",
              "      <td>75.6800</td>\n",
              "    </tr>\n",
              "    <tr>\n",
              "      <th>Labels</th>\n",
              "      <td>491.550</td>\n",
              "      <td>240.8595</td>\n",
              "    </tr>\n",
              "    <tr>\n",
              "      <th>Machines</th>\n",
              "      <td>2402.865</td>\n",
              "      <td>763.1550</td>\n",
              "    </tr>\n",
              "    <tr>\n",
              "      <th>Paper</th>\n",
              "      <td>629.100</td>\n",
              "      <td>301.9680</td>\n",
              "    </tr>\n",
              "    <tr>\n",
              "      <th>Phones</th>\n",
              "      <td>5175.171</td>\n",
              "      <td>919.9710</td>\n",
              "    </tr>\n",
              "    <tr>\n",
              "      <th>Storage</th>\n",
              "      <td>1261.330</td>\n",
              "      <td>327.9458</td>\n",
              "    </tr>\n",
              "    <tr>\n",
              "      <th>Supplies</th>\n",
              "      <td>4164.050</td>\n",
              "      <td>83.2810</td>\n",
              "    </tr>\n",
              "    <tr>\n",
              "      <th>Tables</th>\n",
              "      <td>5244.840</td>\n",
              "      <td>996.4800</td>\n",
              "    </tr>\n",
              "  </tbody>\n",
              "</table>\n",
              "</div>\n",
              "      <button class=\"colab-df-convert\" onclick=\"convertToInteractive('df-8ea1dd40-46e4-458f-8dec-b8d96b1c5614')\"\n",
              "              title=\"Convert this dataframe to an interactive table.\"\n",
              "              style=\"display:none;\">\n",
              "        \n",
              "  <svg xmlns=\"http://www.w3.org/2000/svg\" height=\"24px\"viewBox=\"0 0 24 24\"\n",
              "       width=\"24px\">\n",
              "    <path d=\"M0 0h24v24H0V0z\" fill=\"none\"/>\n",
              "    <path d=\"M18.56 5.44l.94 2.06.94-2.06 2.06-.94-2.06-.94-.94-2.06-.94 2.06-2.06.94zm-11 1L8.5 8.5l.94-2.06 2.06-.94-2.06-.94L8.5 2.5l-.94 2.06-2.06.94zm10 10l.94 2.06.94-2.06 2.06-.94-2.06-.94-.94-2.06-.94 2.06-2.06.94z\"/><path d=\"M17.41 7.96l-1.37-1.37c-.4-.4-.92-.59-1.43-.59-.52 0-1.04.2-1.43.59L10.3 9.45l-7.72 7.72c-.78.78-.78 2.05 0 2.83L4 21.41c.39.39.9.59 1.41.59.51 0 1.02-.2 1.41-.59l7.78-7.78 2.81-2.81c.8-.78.8-2.07 0-2.86zM5.41 20L4 18.59l7.72-7.72 1.47 1.35L5.41 20z\"/>\n",
              "  </svg>\n",
              "      </button>\n",
              "      \n",
              "  <style>\n",
              "    .colab-df-container {\n",
              "      display:flex;\n",
              "      flex-wrap:wrap;\n",
              "      gap: 12px;\n",
              "    }\n",
              "\n",
              "    .colab-df-convert {\n",
              "      background-color: #E8F0FE;\n",
              "      border: none;\n",
              "      border-radius: 50%;\n",
              "      cursor: pointer;\n",
              "      display: none;\n",
              "      fill: #1967D2;\n",
              "      height: 32px;\n",
              "      padding: 0 0 0 0;\n",
              "      width: 32px;\n",
              "    }\n",
              "\n",
              "    .colab-df-convert:hover {\n",
              "      background-color: #E2EBFA;\n",
              "      box-shadow: 0px 1px 2px rgba(60, 64, 67, 0.3), 0px 1px 3px 1px rgba(60, 64, 67, 0.15);\n",
              "      fill: #174EA6;\n",
              "    }\n",
              "\n",
              "    [theme=dark] .colab-df-convert {\n",
              "      background-color: #3B4455;\n",
              "      fill: #D2E3FC;\n",
              "    }\n",
              "\n",
              "    [theme=dark] .colab-df-convert:hover {\n",
              "      background-color: #434B5C;\n",
              "      box-shadow: 0px 1px 3px 1px rgba(0, 0, 0, 0.15);\n",
              "      filter: drop-shadow(0px 1px 2px rgba(0, 0, 0, 0.3));\n",
              "      fill: #FFFFFF;\n",
              "    }\n",
              "  </style>\n",
              "\n",
              "      <script>\n",
              "        const buttonEl =\n",
              "          document.querySelector('#df-8ea1dd40-46e4-458f-8dec-b8d96b1c5614 button.colab-df-convert');\n",
              "        buttonEl.style.display =\n",
              "          google.colab.kernel.accessAllowed ? 'block' : 'none';\n",
              "\n",
              "        async function convertToInteractive(key) {\n",
              "          const element = document.querySelector('#df-8ea1dd40-46e4-458f-8dec-b8d96b1c5614');\n",
              "          const dataTable =\n",
              "            await google.colab.kernel.invokeFunction('convertToInteractive',\n",
              "                                                     [key], {});\n",
              "          if (!dataTable) return;\n",
              "\n",
              "          const docLinkHtml = 'Like what you see? Visit the ' +\n",
              "            '<a target=\"_blank\" href=https://colab.research.google.com/notebooks/data_table.ipynb>data table notebook</a>'\n",
              "            + ' to learn more about interactive tables.';\n",
              "          element.innerHTML = '';\n",
              "          dataTable['output_type'] = 'display_data';\n",
              "          await google.colab.output.renderOutput(dataTable, element);\n",
              "          const docLink = document.createElement('div');\n",
              "          docLink.innerHTML = docLinkHtml;\n",
              "          element.appendChild(docLink);\n",
              "        }\n",
              "      </script>\n",
              "    </div>\n",
              "  </div>\n",
              "  "
            ]
          },
          "metadata": {},
          "execution_count": 33
        }
      ],
      "source": [
        "# Now, we grouped the Sales and Profit by sub-category\n",
        "Profit_Sales = store.groupby('Sub_Category')[\"Sales\",\"Profit\"]\n",
        "Profit_Sales.first()\n"
      ]
    },
    {
      "cell_type": "code",
      "execution_count": null,
      "metadata": {
        "colab": {
          "base_uri": "https://localhost:8080/"
        },
        "id": "RgTo0OqRlGd2",
        "outputId": "b41f6f5e-c1a7-413a-e818-ab4f1f8e674e"
      },
      "outputs": [
        {
          "output_type": "execute_result",
          "data": {
            "text/plain": [
              "Medium      21491\n",
              "High        13174\n",
              "Critical     3675\n",
              "Low          2008\n",
              "Name: Order Priority, dtype: int64"
            ]
          },
          "metadata": {},
          "execution_count": 34
        }
      ],
      "source": [
        "OrderPriority = store['Order Priority'].value_counts()\n",
        "OrderPriority"
      ]
    },
    {
      "cell_type": "code",
      "execution_count": null,
      "metadata": {
        "colab": {
          "base_uri": "https://localhost:8080/",
          "height": 614
        },
        "id": "zINXuxyolGd2",
        "outputId": "c7fcf798-db2b-44ee-8a8f-69bad9aa44c8"
      },
      "outputs": [
        {
          "output_type": "execute_result",
          "data": {
            "text/plain": [
              "                 Sales     Profit\n",
              "Sub_Category                     \n",
              "Accessories   2309.650   762.1845\n",
              "Appliances    3701.520  1036.0800\n",
              "Art            439.680   153.8400\n",
              "Binders       5083.960  1906.4850\n",
              "Bookcases     5667.870  2097.0300\n",
              "Chairs        3709.395  -288.7650\n",
              "Copiers       2832.960   311.5200\n",
              "Envelopes      361.584   -16.1760\n",
              "Fasteners      199.080    65.5200\n",
              "Furnishings    756.800    75.6800\n",
              "Labels         491.550   240.8595\n",
              "Machines      2402.865   763.1550\n",
              "Paper          629.100   301.9680\n",
              "Phones        5175.171   919.9710\n",
              "Storage       1261.330   327.9458\n",
              "Supplies      4164.050    83.2810\n",
              "Tables        5244.840   996.4800"
            ],
            "text/html": [
              "\n",
              "  <div id=\"df-3618907b-9944-4533-8f85-2e71f428eabd\">\n",
              "    <div class=\"colab-df-container\">\n",
              "      <div>\n",
              "<style scoped>\n",
              "    .dataframe tbody tr th:only-of-type {\n",
              "        vertical-align: middle;\n",
              "    }\n",
              "\n",
              "    .dataframe tbody tr th {\n",
              "        vertical-align: top;\n",
              "    }\n",
              "\n",
              "    .dataframe thead th {\n",
              "        text-align: right;\n",
              "    }\n",
              "</style>\n",
              "<table border=\"1\" class=\"dataframe\">\n",
              "  <thead>\n",
              "    <tr style=\"text-align: right;\">\n",
              "      <th></th>\n",
              "      <th>Sales</th>\n",
              "      <th>Profit</th>\n",
              "    </tr>\n",
              "    <tr>\n",
              "      <th>Sub_Category</th>\n",
              "      <th></th>\n",
              "      <th></th>\n",
              "    </tr>\n",
              "  </thead>\n",
              "  <tbody>\n",
              "    <tr>\n",
              "      <th>Accessories</th>\n",
              "      <td>2309.650</td>\n",
              "      <td>762.1845</td>\n",
              "    </tr>\n",
              "    <tr>\n",
              "      <th>Appliances</th>\n",
              "      <td>3701.520</td>\n",
              "      <td>1036.0800</td>\n",
              "    </tr>\n",
              "    <tr>\n",
              "      <th>Art</th>\n",
              "      <td>439.680</td>\n",
              "      <td>153.8400</td>\n",
              "    </tr>\n",
              "    <tr>\n",
              "      <th>Binders</th>\n",
              "      <td>5083.960</td>\n",
              "      <td>1906.4850</td>\n",
              "    </tr>\n",
              "    <tr>\n",
              "      <th>Bookcases</th>\n",
              "      <td>5667.870</td>\n",
              "      <td>2097.0300</td>\n",
              "    </tr>\n",
              "    <tr>\n",
              "      <th>Chairs</th>\n",
              "      <td>3709.395</td>\n",
              "      <td>-288.7650</td>\n",
              "    </tr>\n",
              "    <tr>\n",
              "      <th>Copiers</th>\n",
              "      <td>2832.960</td>\n",
              "      <td>311.5200</td>\n",
              "    </tr>\n",
              "    <tr>\n",
              "      <th>Envelopes</th>\n",
              "      <td>361.584</td>\n",
              "      <td>-16.1760</td>\n",
              "    </tr>\n",
              "    <tr>\n",
              "      <th>Fasteners</th>\n",
              "      <td>199.080</td>\n",
              "      <td>65.5200</td>\n",
              "    </tr>\n",
              "    <tr>\n",
              "      <th>Furnishings</th>\n",
              "      <td>756.800</td>\n",
              "      <td>75.6800</td>\n",
              "    </tr>\n",
              "    <tr>\n",
              "      <th>Labels</th>\n",
              "      <td>491.550</td>\n",
              "      <td>240.8595</td>\n",
              "    </tr>\n",
              "    <tr>\n",
              "      <th>Machines</th>\n",
              "      <td>2402.865</td>\n",
              "      <td>763.1550</td>\n",
              "    </tr>\n",
              "    <tr>\n",
              "      <th>Paper</th>\n",
              "      <td>629.100</td>\n",
              "      <td>301.9680</td>\n",
              "    </tr>\n",
              "    <tr>\n",
              "      <th>Phones</th>\n",
              "      <td>5175.171</td>\n",
              "      <td>919.9710</td>\n",
              "    </tr>\n",
              "    <tr>\n",
              "      <th>Storage</th>\n",
              "      <td>1261.330</td>\n",
              "      <td>327.9458</td>\n",
              "    </tr>\n",
              "    <tr>\n",
              "      <th>Supplies</th>\n",
              "      <td>4164.050</td>\n",
              "      <td>83.2810</td>\n",
              "    </tr>\n",
              "    <tr>\n",
              "      <th>Tables</th>\n",
              "      <td>5244.840</td>\n",
              "      <td>996.4800</td>\n",
              "    </tr>\n",
              "  </tbody>\n",
              "</table>\n",
              "</div>\n",
              "      <button class=\"colab-df-convert\" onclick=\"convertToInteractive('df-3618907b-9944-4533-8f85-2e71f428eabd')\"\n",
              "              title=\"Convert this dataframe to an interactive table.\"\n",
              "              style=\"display:none;\">\n",
              "        \n",
              "  <svg xmlns=\"http://www.w3.org/2000/svg\" height=\"24px\"viewBox=\"0 0 24 24\"\n",
              "       width=\"24px\">\n",
              "    <path d=\"M0 0h24v24H0V0z\" fill=\"none\"/>\n",
              "    <path d=\"M18.56 5.44l.94 2.06.94-2.06 2.06-.94-2.06-.94-.94-2.06-.94 2.06-2.06.94zm-11 1L8.5 8.5l.94-2.06 2.06-.94-2.06-.94L8.5 2.5l-.94 2.06-2.06.94zm10 10l.94 2.06.94-2.06 2.06-.94-2.06-.94-.94-2.06-.94 2.06-2.06.94z\"/><path d=\"M17.41 7.96l-1.37-1.37c-.4-.4-.92-.59-1.43-.59-.52 0-1.04.2-1.43.59L10.3 9.45l-7.72 7.72c-.78.78-.78 2.05 0 2.83L4 21.41c.39.39.9.59 1.41.59.51 0 1.02-.2 1.41-.59l7.78-7.78 2.81-2.81c.8-.78.8-2.07 0-2.86zM5.41 20L4 18.59l7.72-7.72 1.47 1.35L5.41 20z\"/>\n",
              "  </svg>\n",
              "      </button>\n",
              "      \n",
              "  <style>\n",
              "    .colab-df-container {\n",
              "      display:flex;\n",
              "      flex-wrap:wrap;\n",
              "      gap: 12px;\n",
              "    }\n",
              "\n",
              "    .colab-df-convert {\n",
              "      background-color: #E8F0FE;\n",
              "      border: none;\n",
              "      border-radius: 50%;\n",
              "      cursor: pointer;\n",
              "      display: none;\n",
              "      fill: #1967D2;\n",
              "      height: 32px;\n",
              "      padding: 0 0 0 0;\n",
              "      width: 32px;\n",
              "    }\n",
              "\n",
              "    .colab-df-convert:hover {\n",
              "      background-color: #E2EBFA;\n",
              "      box-shadow: 0px 1px 2px rgba(60, 64, 67, 0.3), 0px 1px 3px 1px rgba(60, 64, 67, 0.15);\n",
              "      fill: #174EA6;\n",
              "    }\n",
              "\n",
              "    [theme=dark] .colab-df-convert {\n",
              "      background-color: #3B4455;\n",
              "      fill: #D2E3FC;\n",
              "    }\n",
              "\n",
              "    [theme=dark] .colab-df-convert:hover {\n",
              "      background-color: #434B5C;\n",
              "      box-shadow: 0px 1px 3px 1px rgba(0, 0, 0, 0.15);\n",
              "      filter: drop-shadow(0px 1px 2px rgba(0, 0, 0, 0.3));\n",
              "      fill: #FFFFFF;\n",
              "    }\n",
              "  </style>\n",
              "\n",
              "      <script>\n",
              "        const buttonEl =\n",
              "          document.querySelector('#df-3618907b-9944-4533-8f85-2e71f428eabd button.colab-df-convert');\n",
              "        buttonEl.style.display =\n",
              "          google.colab.kernel.accessAllowed ? 'block' : 'none';\n",
              "\n",
              "        async function convertToInteractive(key) {\n",
              "          const element = document.querySelector('#df-3618907b-9944-4533-8f85-2e71f428eabd');\n",
              "          const dataTable =\n",
              "            await google.colab.kernel.invokeFunction('convertToInteractive',\n",
              "                                                     [key], {});\n",
              "          if (!dataTable) return;\n",
              "\n",
              "          const docLinkHtml = 'Like what you see? Visit the ' +\n",
              "            '<a target=\"_blank\" href=https://colab.research.google.com/notebooks/data_table.ipynb>data table notebook</a>'\n",
              "            + ' to learn more about interactive tables.';\n",
              "          element.innerHTML = '';\n",
              "          dataTable['output_type'] = 'display_data';\n",
              "          await google.colab.output.renderOutput(dataTable, element);\n",
              "          const docLink = document.createElement('div');\n",
              "          docLink.innerHTML = docLinkHtml;\n",
              "          element.appendChild(docLink);\n",
              "        }\n",
              "      </script>\n",
              "    </div>\n",
              "  </div>\n",
              "  "
            ]
          },
          "metadata": {},
          "execution_count": 35
        }
      ],
      "source": [
        "# Grouping the Sales and Profit based on Sub_category\n",
        "Profit_Sales = store.groupby('Sub_Category')[\"Sales\",\"Profit\"]\n",
        "Profit_Sales.first()"
      ]
    },
    {
      "cell_type": "code",
      "execution_count": null,
      "metadata": {
        "colab": {
          "base_uri": "https://localhost:8080/",
          "height": 614
        },
        "id": "F1UhFXJylGd3",
        "outputId": "e7ee52d2-dcc8-45c5-ec3d-696c3339a5cf"
      },
      "outputs": [
        {
          "output_type": "execute_result",
          "data": {
            "text/plain": [
              "                     Sales        Profit\n",
              "Sub_Category                            \n",
              "Accessories   7.386779e+05  130238.74980\n",
              "Appliances    1.006489e+06  142648.84360\n",
              "Art           3.439002e+05   58179.07140\n",
              "Binders       4.201972e+05   71836.03080\n",
              "Bookcases     1.461295e+06  162172.85890\n",
              "Chairs        1.493471e+06  140837.13770\n",
              "Copiers       1.507196e+06  258265.28292\n",
              "Envelopes     1.559485e+05   28971.59400\n",
              "Fasteners     6.345294e+04   10447.91060\n",
              "Furnishings   3.695182e+05   47092.24480\n",
              "Labels        5.115153e+04   11990.32490\n",
              "Machines      7.753576e+05   59135.51800\n",
              "Paper         2.217122e+05   55043.43760\n",
              "Phones        1.695873e+06  217050.55830\n",
              "Storage       1.106401e+06  109616.42470\n",
              "Supplies      2.300254e+05   22850.69060\n",
              "Tables        7.535208e+05  -62718.87950"
            ],
            "text/html": [
              "\n",
              "  <div id=\"df-a26ad527-afb1-4548-b2ed-c595ca684174\">\n",
              "    <div class=\"colab-df-container\">\n",
              "      <div>\n",
              "<style scoped>\n",
              "    .dataframe tbody tr th:only-of-type {\n",
              "        vertical-align: middle;\n",
              "    }\n",
              "\n",
              "    .dataframe tbody tr th {\n",
              "        vertical-align: top;\n",
              "    }\n",
              "\n",
              "    .dataframe thead th {\n",
              "        text-align: right;\n",
              "    }\n",
              "</style>\n",
              "<table border=\"1\" class=\"dataframe\">\n",
              "  <thead>\n",
              "    <tr style=\"text-align: right;\">\n",
              "      <th></th>\n",
              "      <th>Sales</th>\n",
              "      <th>Profit</th>\n",
              "    </tr>\n",
              "    <tr>\n",
              "      <th>Sub_Category</th>\n",
              "      <th></th>\n",
              "      <th></th>\n",
              "    </tr>\n",
              "  </thead>\n",
              "  <tbody>\n",
              "    <tr>\n",
              "      <th>Accessories</th>\n",
              "      <td>7.386779e+05</td>\n",
              "      <td>130238.74980</td>\n",
              "    </tr>\n",
              "    <tr>\n",
              "      <th>Appliances</th>\n",
              "      <td>1.006489e+06</td>\n",
              "      <td>142648.84360</td>\n",
              "    </tr>\n",
              "    <tr>\n",
              "      <th>Art</th>\n",
              "      <td>3.439002e+05</td>\n",
              "      <td>58179.07140</td>\n",
              "    </tr>\n",
              "    <tr>\n",
              "      <th>Binders</th>\n",
              "      <td>4.201972e+05</td>\n",
              "      <td>71836.03080</td>\n",
              "    </tr>\n",
              "    <tr>\n",
              "      <th>Bookcases</th>\n",
              "      <td>1.461295e+06</td>\n",
              "      <td>162172.85890</td>\n",
              "    </tr>\n",
              "    <tr>\n",
              "      <th>Chairs</th>\n",
              "      <td>1.493471e+06</td>\n",
              "      <td>140837.13770</td>\n",
              "    </tr>\n",
              "    <tr>\n",
              "      <th>Copiers</th>\n",
              "      <td>1.507196e+06</td>\n",
              "      <td>258265.28292</td>\n",
              "    </tr>\n",
              "    <tr>\n",
              "      <th>Envelopes</th>\n",
              "      <td>1.559485e+05</td>\n",
              "      <td>28971.59400</td>\n",
              "    </tr>\n",
              "    <tr>\n",
              "      <th>Fasteners</th>\n",
              "      <td>6.345294e+04</td>\n",
              "      <td>10447.91060</td>\n",
              "    </tr>\n",
              "    <tr>\n",
              "      <th>Furnishings</th>\n",
              "      <td>3.695182e+05</td>\n",
              "      <td>47092.24480</td>\n",
              "    </tr>\n",
              "    <tr>\n",
              "      <th>Labels</th>\n",
              "      <td>5.115153e+04</td>\n",
              "      <td>11990.32490</td>\n",
              "    </tr>\n",
              "    <tr>\n",
              "      <th>Machines</th>\n",
              "      <td>7.753576e+05</td>\n",
              "      <td>59135.51800</td>\n",
              "    </tr>\n",
              "    <tr>\n",
              "      <th>Paper</th>\n",
              "      <td>2.217122e+05</td>\n",
              "      <td>55043.43760</td>\n",
              "    </tr>\n",
              "    <tr>\n",
              "      <th>Phones</th>\n",
              "      <td>1.695873e+06</td>\n",
              "      <td>217050.55830</td>\n",
              "    </tr>\n",
              "    <tr>\n",
              "      <th>Storage</th>\n",
              "      <td>1.106401e+06</td>\n",
              "      <td>109616.42470</td>\n",
              "    </tr>\n",
              "    <tr>\n",
              "      <th>Supplies</th>\n",
              "      <td>2.300254e+05</td>\n",
              "      <td>22850.69060</td>\n",
              "    </tr>\n",
              "    <tr>\n",
              "      <th>Tables</th>\n",
              "      <td>7.535208e+05</td>\n",
              "      <td>-62718.87950</td>\n",
              "    </tr>\n",
              "  </tbody>\n",
              "</table>\n",
              "</div>\n",
              "      <button class=\"colab-df-convert\" onclick=\"convertToInteractive('df-a26ad527-afb1-4548-b2ed-c595ca684174')\"\n",
              "              title=\"Convert this dataframe to an interactive table.\"\n",
              "              style=\"display:none;\">\n",
              "        \n",
              "  <svg xmlns=\"http://www.w3.org/2000/svg\" height=\"24px\"viewBox=\"0 0 24 24\"\n",
              "       width=\"24px\">\n",
              "    <path d=\"M0 0h24v24H0V0z\" fill=\"none\"/>\n",
              "    <path d=\"M18.56 5.44l.94 2.06.94-2.06 2.06-.94-2.06-.94-.94-2.06-.94 2.06-2.06.94zm-11 1L8.5 8.5l.94-2.06 2.06-.94-2.06-.94L8.5 2.5l-.94 2.06-2.06.94zm10 10l.94 2.06.94-2.06 2.06-.94-2.06-.94-.94-2.06-.94 2.06-2.06.94z\"/><path d=\"M17.41 7.96l-1.37-1.37c-.4-.4-.92-.59-1.43-.59-.52 0-1.04.2-1.43.59L10.3 9.45l-7.72 7.72c-.78.78-.78 2.05 0 2.83L4 21.41c.39.39.9.59 1.41.59.51 0 1.02-.2 1.41-.59l7.78-7.78 2.81-2.81c.8-.78.8-2.07 0-2.86zM5.41 20L4 18.59l7.72-7.72 1.47 1.35L5.41 20z\"/>\n",
              "  </svg>\n",
              "      </button>\n",
              "      \n",
              "  <style>\n",
              "    .colab-df-container {\n",
              "      display:flex;\n",
              "      flex-wrap:wrap;\n",
              "      gap: 12px;\n",
              "    }\n",
              "\n",
              "    .colab-df-convert {\n",
              "      background-color: #E8F0FE;\n",
              "      border: none;\n",
              "      border-radius: 50%;\n",
              "      cursor: pointer;\n",
              "      display: none;\n",
              "      fill: #1967D2;\n",
              "      height: 32px;\n",
              "      padding: 0 0 0 0;\n",
              "      width: 32px;\n",
              "    }\n",
              "\n",
              "    .colab-df-convert:hover {\n",
              "      background-color: #E2EBFA;\n",
              "      box-shadow: 0px 1px 2px rgba(60, 64, 67, 0.3), 0px 1px 3px 1px rgba(60, 64, 67, 0.15);\n",
              "      fill: #174EA6;\n",
              "    }\n",
              "\n",
              "    [theme=dark] .colab-df-convert {\n",
              "      background-color: #3B4455;\n",
              "      fill: #D2E3FC;\n",
              "    }\n",
              "\n",
              "    [theme=dark] .colab-df-convert:hover {\n",
              "      background-color: #434B5C;\n",
              "      box-shadow: 0px 1px 3px 1px rgba(0, 0, 0, 0.15);\n",
              "      filter: drop-shadow(0px 1px 2px rgba(0, 0, 0, 0.3));\n",
              "      fill: #FFFFFF;\n",
              "    }\n",
              "  </style>\n",
              "\n",
              "      <script>\n",
              "        const buttonEl =\n",
              "          document.querySelector('#df-a26ad527-afb1-4548-b2ed-c595ca684174 button.colab-df-convert');\n",
              "        buttonEl.style.display =\n",
              "          google.colab.kernel.accessAllowed ? 'block' : 'none';\n",
              "\n",
              "        async function convertToInteractive(key) {\n",
              "          const element = document.querySelector('#df-a26ad527-afb1-4548-b2ed-c595ca684174');\n",
              "          const dataTable =\n",
              "            await google.colab.kernel.invokeFunction('convertToInteractive',\n",
              "                                                     [key], {});\n",
              "          if (!dataTable) return;\n",
              "\n",
              "          const docLinkHtml = 'Like what you see? Visit the ' +\n",
              "            '<a target=\"_blank\" href=https://colab.research.google.com/notebooks/data_table.ipynb>data table notebook</a>'\n",
              "            + ' to learn more about interactive tables.';\n",
              "          element.innerHTML = '';\n",
              "          dataTable['output_type'] = 'display_data';\n",
              "          await google.colab.output.renderOutput(dataTable, element);\n",
              "          const docLink = document.createElement('div');\n",
              "          docLink.innerHTML = docLinkHtml;\n",
              "          element.appendChild(docLink);\n",
              "        }\n",
              "      </script>\n",
              "    </div>\n",
              "  </div>\n",
              "  "
            ]
          },
          "metadata": {},
          "execution_count": 36
        }
      ],
      "source": [
        "Profit_Sales.sum()"
      ]
    },
    {
      "cell_type": "code",
      "execution_count": null,
      "metadata": {
        "colab": {
          "base_uri": "https://localhost:8080/",
          "height": 617
        },
        "id": "0K6mppfClGd4",
        "outputId": "09569f19-00ec-49bb-8dce-4094821bf31f"
      },
      "outputs": [
        {
          "output_type": "execute_result",
          "data": {
            "text/plain": [
              "   Order Date   Ship Date     Ship Mode     Customer Name      Segment  \\\n",
              "0   7/31/2012   7/31/2012      Same Day       Rick Hansen     Consumer   \n",
              "1    2/5/2013    2/7/2013  Second Class     Justin Ritter    Corporate   \n",
              "2  10/17/2013  10/18/2013   First Class      Craig Reiter     Consumer   \n",
              "3   1/28/2013   1/30/2013   First Class  Katherine Murray  Home Office   \n",
              "4   11/5/2013   11/6/2013      Same Day       Rick Hansen     Consumer   \n",
              "\n",
              "            City            State        Country  Market   Region    Category  \\\n",
              "0  New York City         New York  United States      US     East  Technology   \n",
              "1     Wollongong  New South Wales      Australia    APAC  Oceania   Furniture   \n",
              "2       Brisbane       Queensland      Australia    APAC  Oceania  Technology   \n",
              "3         Berlin             None        Germany      EU  Central  Technology   \n",
              "4           None             None         others  Africa   Africa  Technology   \n",
              "\n",
              "  Sub_Category                                       Product Name     Sales  \\\n",
              "0  Accessories  Plantronics CS510 - Over-the-Head monaural Wir...  2309.650   \n",
              "1       Chairs          Novimex Executive Leather Armchair, Black  3709.395   \n",
              "2       Phones                  Nokia Smart Phone, with Caller ID  5175.171   \n",
              "3       Phones                     Motorola Smart Phone, Cordless  2892.510   \n",
              "4      Copiers                     Sharp Wireless Fax, High-Speed  2832.960   \n",
              "\n",
              "   Quantity  Discount    Profit  Shipping Cost Order Priority  \n",
              "0       7.0       0.0  762.1845         933.57       Critical  \n",
              "1       9.0      10.0 -288.7650         923.63       Critical  \n",
              "2       9.0      10.0  919.9710         915.49         Medium  \n",
              "3       5.0      10.0  -96.5400         910.16         Medium  \n",
              "4       8.0       0.0  311.5200         903.04       Critical  "
            ],
            "text/html": [
              "\n",
              "  <div id=\"df-50e88afb-7068-4f83-96d8-3deaa920d22f\">\n",
              "    <div class=\"colab-df-container\">\n",
              "      <div>\n",
              "<style scoped>\n",
              "    .dataframe tbody tr th:only-of-type {\n",
              "        vertical-align: middle;\n",
              "    }\n",
              "\n",
              "    .dataframe tbody tr th {\n",
              "        vertical-align: top;\n",
              "    }\n",
              "\n",
              "    .dataframe thead th {\n",
              "        text-align: right;\n",
              "    }\n",
              "</style>\n",
              "<table border=\"1\" class=\"dataframe\">\n",
              "  <thead>\n",
              "    <tr style=\"text-align: right;\">\n",
              "      <th></th>\n",
              "      <th>Order Date</th>\n",
              "      <th>Ship Date</th>\n",
              "      <th>Ship Mode</th>\n",
              "      <th>Customer Name</th>\n",
              "      <th>Segment</th>\n",
              "      <th>City</th>\n",
              "      <th>State</th>\n",
              "      <th>Country</th>\n",
              "      <th>Market</th>\n",
              "      <th>Region</th>\n",
              "      <th>Category</th>\n",
              "      <th>Sub_Category</th>\n",
              "      <th>Product Name</th>\n",
              "      <th>Sales</th>\n",
              "      <th>Quantity</th>\n",
              "      <th>Discount</th>\n",
              "      <th>Profit</th>\n",
              "      <th>Shipping Cost</th>\n",
              "      <th>Order Priority</th>\n",
              "    </tr>\n",
              "  </thead>\n",
              "  <tbody>\n",
              "    <tr>\n",
              "      <th>0</th>\n",
              "      <td>7/31/2012</td>\n",
              "      <td>7/31/2012</td>\n",
              "      <td>Same Day</td>\n",
              "      <td>Rick Hansen</td>\n",
              "      <td>Consumer</td>\n",
              "      <td>New York City</td>\n",
              "      <td>New York</td>\n",
              "      <td>United States</td>\n",
              "      <td>US</td>\n",
              "      <td>East</td>\n",
              "      <td>Technology</td>\n",
              "      <td>Accessories</td>\n",
              "      <td>Plantronics CS510 - Over-the-Head monaural Wir...</td>\n",
              "      <td>2309.650</td>\n",
              "      <td>7.0</td>\n",
              "      <td>0.0</td>\n",
              "      <td>762.1845</td>\n",
              "      <td>933.57</td>\n",
              "      <td>Critical</td>\n",
              "    </tr>\n",
              "    <tr>\n",
              "      <th>1</th>\n",
              "      <td>2/5/2013</td>\n",
              "      <td>2/7/2013</td>\n",
              "      <td>Second Class</td>\n",
              "      <td>Justin Ritter</td>\n",
              "      <td>Corporate</td>\n",
              "      <td>Wollongong</td>\n",
              "      <td>New South Wales</td>\n",
              "      <td>Australia</td>\n",
              "      <td>APAC</td>\n",
              "      <td>Oceania</td>\n",
              "      <td>Furniture</td>\n",
              "      <td>Chairs</td>\n",
              "      <td>Novimex Executive Leather Armchair, Black</td>\n",
              "      <td>3709.395</td>\n",
              "      <td>9.0</td>\n",
              "      <td>10.0</td>\n",
              "      <td>-288.7650</td>\n",
              "      <td>923.63</td>\n",
              "      <td>Critical</td>\n",
              "    </tr>\n",
              "    <tr>\n",
              "      <th>2</th>\n",
              "      <td>10/17/2013</td>\n",
              "      <td>10/18/2013</td>\n",
              "      <td>First Class</td>\n",
              "      <td>Craig Reiter</td>\n",
              "      <td>Consumer</td>\n",
              "      <td>Brisbane</td>\n",
              "      <td>Queensland</td>\n",
              "      <td>Australia</td>\n",
              "      <td>APAC</td>\n",
              "      <td>Oceania</td>\n",
              "      <td>Technology</td>\n",
              "      <td>Phones</td>\n",
              "      <td>Nokia Smart Phone, with Caller ID</td>\n",
              "      <td>5175.171</td>\n",
              "      <td>9.0</td>\n",
              "      <td>10.0</td>\n",
              "      <td>919.9710</td>\n",
              "      <td>915.49</td>\n",
              "      <td>Medium</td>\n",
              "    </tr>\n",
              "    <tr>\n",
              "      <th>3</th>\n",
              "      <td>1/28/2013</td>\n",
              "      <td>1/30/2013</td>\n",
              "      <td>First Class</td>\n",
              "      <td>Katherine Murray</td>\n",
              "      <td>Home Office</td>\n",
              "      <td>Berlin</td>\n",
              "      <td>None</td>\n",
              "      <td>Germany</td>\n",
              "      <td>EU</td>\n",
              "      <td>Central</td>\n",
              "      <td>Technology</td>\n",
              "      <td>Phones</td>\n",
              "      <td>Motorola Smart Phone, Cordless</td>\n",
              "      <td>2892.510</td>\n",
              "      <td>5.0</td>\n",
              "      <td>10.0</td>\n",
              "      <td>-96.5400</td>\n",
              "      <td>910.16</td>\n",
              "      <td>Medium</td>\n",
              "    </tr>\n",
              "    <tr>\n",
              "      <th>4</th>\n",
              "      <td>11/5/2013</td>\n",
              "      <td>11/6/2013</td>\n",
              "      <td>Same Day</td>\n",
              "      <td>Rick Hansen</td>\n",
              "      <td>Consumer</td>\n",
              "      <td>None</td>\n",
              "      <td>None</td>\n",
              "      <td>others</td>\n",
              "      <td>Africa</td>\n",
              "      <td>Africa</td>\n",
              "      <td>Technology</td>\n",
              "      <td>Copiers</td>\n",
              "      <td>Sharp Wireless Fax, High-Speed</td>\n",
              "      <td>2832.960</td>\n",
              "      <td>8.0</td>\n",
              "      <td>0.0</td>\n",
              "      <td>311.5200</td>\n",
              "      <td>903.04</td>\n",
              "      <td>Critical</td>\n",
              "    </tr>\n",
              "  </tbody>\n",
              "</table>\n",
              "</div>\n",
              "      <button class=\"colab-df-convert\" onclick=\"convertToInteractive('df-50e88afb-7068-4f83-96d8-3deaa920d22f')\"\n",
              "              title=\"Convert this dataframe to an interactive table.\"\n",
              "              style=\"display:none;\">\n",
              "        \n",
              "  <svg xmlns=\"http://www.w3.org/2000/svg\" height=\"24px\"viewBox=\"0 0 24 24\"\n",
              "       width=\"24px\">\n",
              "    <path d=\"M0 0h24v24H0V0z\" fill=\"none\"/>\n",
              "    <path d=\"M18.56 5.44l.94 2.06.94-2.06 2.06-.94-2.06-.94-.94-2.06-.94 2.06-2.06.94zm-11 1L8.5 8.5l.94-2.06 2.06-.94-2.06-.94L8.5 2.5l-.94 2.06-2.06.94zm10 10l.94 2.06.94-2.06 2.06-.94-2.06-.94-.94-2.06-.94 2.06-2.06.94z\"/><path d=\"M17.41 7.96l-1.37-1.37c-.4-.4-.92-.59-1.43-.59-.52 0-1.04.2-1.43.59L10.3 9.45l-7.72 7.72c-.78.78-.78 2.05 0 2.83L4 21.41c.39.39.9.59 1.41.59.51 0 1.02-.2 1.41-.59l7.78-7.78 2.81-2.81c.8-.78.8-2.07 0-2.86zM5.41 20L4 18.59l7.72-7.72 1.47 1.35L5.41 20z\"/>\n",
              "  </svg>\n",
              "      </button>\n",
              "      \n",
              "  <style>\n",
              "    .colab-df-container {\n",
              "      display:flex;\n",
              "      flex-wrap:wrap;\n",
              "      gap: 12px;\n",
              "    }\n",
              "\n",
              "    .colab-df-convert {\n",
              "      background-color: #E8F0FE;\n",
              "      border: none;\n",
              "      border-radius: 50%;\n",
              "      cursor: pointer;\n",
              "      display: none;\n",
              "      fill: #1967D2;\n",
              "      height: 32px;\n",
              "      padding: 0 0 0 0;\n",
              "      width: 32px;\n",
              "    }\n",
              "\n",
              "    .colab-df-convert:hover {\n",
              "      background-color: #E2EBFA;\n",
              "      box-shadow: 0px 1px 2px rgba(60, 64, 67, 0.3), 0px 1px 3px 1px rgba(60, 64, 67, 0.15);\n",
              "      fill: #174EA6;\n",
              "    }\n",
              "\n",
              "    [theme=dark] .colab-df-convert {\n",
              "      background-color: #3B4455;\n",
              "      fill: #D2E3FC;\n",
              "    }\n",
              "\n",
              "    [theme=dark] .colab-df-convert:hover {\n",
              "      background-color: #434B5C;\n",
              "      box-shadow: 0px 1px 3px 1px rgba(0, 0, 0, 0.15);\n",
              "      filter: drop-shadow(0px 1px 2px rgba(0, 0, 0, 0.3));\n",
              "      fill: #FFFFFF;\n",
              "    }\n",
              "  </style>\n",
              "\n",
              "      <script>\n",
              "        const buttonEl =\n",
              "          document.querySelector('#df-50e88afb-7068-4f83-96d8-3deaa920d22f button.colab-df-convert');\n",
              "        buttonEl.style.display =\n",
              "          google.colab.kernel.accessAllowed ? 'block' : 'none';\n",
              "\n",
              "        async function convertToInteractive(key) {\n",
              "          const element = document.querySelector('#df-50e88afb-7068-4f83-96d8-3deaa920d22f');\n",
              "          const dataTable =\n",
              "            await google.colab.kernel.invokeFunction('convertToInteractive',\n",
              "                                                     [key], {});\n",
              "          if (!dataTable) return;\n",
              "\n",
              "          const docLinkHtml = 'Like what you see? Visit the ' +\n",
              "            '<a target=\"_blank\" href=https://colab.research.google.com/notebooks/data_table.ipynb>data table notebook</a>'\n",
              "            + ' to learn more about interactive tables.';\n",
              "          element.innerHTML = '';\n",
              "          dataTable['output_type'] = 'display_data';\n",
              "          await google.colab.output.renderOutput(dataTable, element);\n",
              "          const docLink = document.createElement('div');\n",
              "          docLink.innerHTML = docLinkHtml;\n",
              "          element.appendChild(docLink);\n",
              "        }\n",
              "      </script>\n",
              "    </div>\n",
              "  </div>\n",
              "  "
            ]
          },
          "metadata": {},
          "execution_count": 37
        }
      ],
      "source": [
        "store.head()"
      ]
    },
    {
      "cell_type": "code",
      "execution_count": null,
      "metadata": {
        "id": "0jpB9mOxlGd4"
      },
      "outputs": [],
      "source": [
        "store.to_csv('store_cleaned.csv')"
      ]
    },
    {
      "cell_type": "markdown",
      "metadata": {
        "id": "V1mmbC4FlGd5"
      },
      "source": [
        "### It is time to analze the data"
      ]
    },
    {
      "cell_type": "code",
      "execution_count": null,
      "metadata": {
        "colab": {
          "base_uri": "https://localhost:8080/",
          "height": 406
        },
        "id": "LekFXDnKlGd6",
        "outputId": "8ba46518-a21b-427e-b42d-f9d93d176274"
      },
      "outputs": [
        {
          "output_type": "display_data",
          "data": {
            "text/plain": [
              "<Figure size 640x480 with 1 Axes>"
            ],
            "image/png": "[encoded data removed]"
          },
          "metadata": {}
        }
      ],
      "source": [
        "# Percentage of ship mode via pie chart \n",
        "\n",
        "stu=['Standard Class','Second Class','First Class','Same Day']\n",
        "colors=['g','r','c','b']\n",
        "plt.pie([60,20,14.7,5.3],labels=stu,autopct=\"%0.2f%%\",colors=colors)\n",
        "plt.show()\n",
        "\n"
      ]
    },
    {
      "cell_type": "code",
      "execution_count": null,
      "metadata": {
        "colab": {
          "base_uri": "https://localhost:8080/",
          "height": 406
        },
        "id": "2rzp9YmElGd7",
        "outputId": "95a26ee8-f775-49b4-d25b-79a7f50b7ee6"
      },
      "outputs": [
        {
          "output_type": "display_data",
          "data": {
            "text/plain": [
              "<Figure size 640x480 with 1 Axes>"
            ],
            "image/png": "[encoded data removed]"
          },
          "metadata": {}
        }
      ],
      "source": [
        "# Pie chart of segment \n",
        "\n",
        "colors=['g','r','b']\n",
        "plt.pie(x=segment,labels=segment.index,autopct=\"%0.2f%%\",colors=colors)\n",
        "plt.show()"
      ]
    },
    {
      "cell_type": "code",
      "source": [
        "# Visualizing the city \n",
        "plt.figure(figsize = (16,10))\n",
        "ax = sns.countplot(x='City',data=store)\n",
        "plt.xticks(rotation=90)\n",
        "plt.show()"
      ],
      "metadata": {
        "colab": {
          "base_uri": "https://localhost:8080/",
          "height": 792
        },
        "id": "-IRi2UrPptYM",
        "outputId": "f4617058-1502-428d-d3de-505902addfc3"
      },
      "execution_count": null,
      "outputs": [
        {
          "output_type": "display_data",
          "data": {
            "text/plain": [
              "<Figure size 1600x1000 with 1 Axes>"
            ],
            "image/png": "[encoded data removed]"
          },
          "metadata": {}
        }
      ]
    },
    {
      "cell_type": "code",
      "execution_count": null,
      "metadata": {
        "colab": {
          "base_uri": "https://localhost:8080/",
          "height": 874
        },
        "id": "wwO__OzLlGd9",
        "outputId": "e0f422d5-5447-474f-e7a0-efadb41eb503"
      },
      "outputs": [
        {
          "output_type": "display_data",
          "data": {
            "text/plain": [
              "<Figure size 1000x800 with 1 Axes>"
            ],
            "image/png": "[encoded data removed]"
          },
          "metadata": {}
        }
      ],
      "source": [
        "# Visualizing the States\n",
        "plt.figure(figsize = (10,8))\n",
        "ax = sns.countplot(x='State',data=store)\n",
        "plt.xticks(rotation=90)\n",
        "plt.show()"
      ]
    },
    {
      "cell_type": "code",
      "source": [
        "# Visualizning the region\n",
        "plt.figure(figsize = (16,10))\n",
        "ax = sns.countplot(x='Region',data=store)\n",
        "plt.xticks(rotation=90)\n",
        "plt.show()"
      ],
      "metadata": {
        "colab": {
          "base_uri": "https://localhost:8080/",
          "height": 765
        },
        "id": "JQA5Sh7IuYqO",
        "outputId": "b2deb003-5ea4-4138-ad33-b1e1be21b87b"
      },
      "execution_count": null,
      "outputs": [
        {
          "output_type": "display_data",
          "data": {
            "text/plain": [
              "<Figure size 1600x1000 with 1 Axes>"
            ],
            "image/png": "[encoded data removed]"
          },
          "metadata": {}
        }
      ]
    },
    {
      "cell_type": "code",
      "source": [
        "# Visualizing the order Priority\n",
        "stu=['Office Supplies','Technology','Furniture']\n",
        "colors=['g','r','b']\n",
        "plt.pie([61,19.8,19.2],labels=stu,autopct=\"%0.2f%%\",colors=colors)\n",
        "plt.show()"
      ],
      "metadata": {
        "colab": {
          "base_uri": "https://localhost:8080/",
          "height": 406
        },
        "id": "nV_wGzb6rsBv",
        "outputId": "99081881-0530-46e1-9649-af187391812e"
      },
      "execution_count": null,
      "outputs": [
        {
          "output_type": "display_data",
          "data": {
            "text/plain": [
              "<Figure size 640x480 with 1 Axes>"
            ],
            "image/png": "[encoded data removed]"
          },
          "metadata": {}
        }
      ]
    },
    {
      "cell_type": "code",
      "source": [
        "# Visualizing the Sub Category\n",
        "plt.figure(figsize = (16,10))\n",
        "ax = sns.countplot(x='Sub-Category',data=store)\n",
        "plt.xticks(rotation=90)\n",
        "plt.show()"
      ],
      "metadata": {
        "colab": {
          "base_uri": "https://localhost:8080/",
          "height": 937
        },
        "id": "Vt7YtvXXu-Kv",
        "outputId": "f56b2da2-06c6-486d-b4c0-192ca1f74c8f"
      },
      "execution_count": null,
      "outputs": [
        {
          "output_type": "display_data",
          "data": {
            "text/plain": [
              "<Figure size 1600x1000 with 1 Axes>"
            ],
            "image/png": "[encoded data removed]"
          },
          "metadata": {}
        }
      ]
    },
    {
      "cell_type": "code",
      "source": [
        "# Visualizing the Category vs discount\n",
        "plt.figure(figsize = (6,4))\n",
        "sns.barplot(data=store,x='Category',y='Discount')\n",
        "plt.xticks(rotation = 90)\n",
        "plt.show()"
      ],
      "metadata": {
        "colab": {
          "base_uri": "https://localhost:8080/",
          "height": 478
        },
        "id": "CtTH5r6BvbPB",
        "outputId": "9597529d-ff51-442a-f65d-0b81cb7ac24b"
      },
      "execution_count": null,
      "outputs": [
        {
          "output_type": "display_data",
          "data": {
            "text/plain": [
              "<Figure size 600x400 with 1 Axes>"
            ],
            "image/png": "[encoded data removed]"
          },
          "metadata": {}
        }
      ]
    },
    {
      "cell_type": "code",
      "source": [
        "# Visualizing the Sales and Profit\n",
        "plt.figure(figsize=(10,15))\n",
        "Profit_Sales.agg(['sum']).plot.bar()\n",
        "plt.title('Total Profit and Sales per Sub-Category')\n",
        "plt.show()"
      ],
      "metadata": {
        "colab": {
          "base_uri": "https://localhost:8080/",
          "height": 556
        },
        "id": "tsNVawXUwQiv",
        "outputId": "49413b8a-10fb-48ce-b94c-ef20b5adb948"
      },
      "execution_count": null,
      "outputs": [
        {
          "output_type": "display_data",
          "data": {
            "text/plain": [
              "<Figure size 1000x1500 with 0 Axes>"
            ]
          },
          "metadata": {}
        },
        {
          "output_type": "display_data",
          "data": {
            "text/plain": [
              "<Figure size 640x480 with 1 Axes>"
            ],
            "image/png": "[encoded data removed]"
          },
          "metadata": {}
        }
      ]
    }
  ],
  "metadata": {
    "kernelspec": {
      "display_name": "Python 3",
      "language": "python",
      "name": "python3"
    },
    "language_info": {
      "codemirror_mode": {
        "name": "ipython",
        "version": 3
      },
      "file_extension": ".py",
      "mimetype": "text/x-python",
      "name": "python",
      "nbconvert_exporter": "python",
      "pygments_lexer": "ipython3",
      "version": "3.10.6"
    },
    "orig_nbformat": 4,
    "colab": {
      "provenance": []
    }
  },
  "nbformat": 4,
  "nbformat_minor": 0
}